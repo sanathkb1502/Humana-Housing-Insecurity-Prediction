{
  "nbformat": 4,
  "nbformat_minor": 0,
  "metadata": {
    "colab": {
      "provenance": [],
      "collapsed_sections": []
    },
    "kernelspec": {
      "name": "python3",
      "display_name": "Python 3"
    },
    "language_info": {
      "name": "python"
    }
  },
  "cells": [
    {
      "cell_type": "markdown",
      "source": [
        "## Problem Statement\n",
        "\n",
        "Humana believes in a whole person health model that supports physical,\n",
        "mental and social health, and, ultimately, helps people achieve their best\n",
        "health. And, we believe in a more equitable health system where social needs\n",
        "do not determine your health outcomes.\n",
        "\n",
        "\n",
        "**Health-related social needs (HRSNs)** are the immediate health-harming\n",
        "conditions affecting a specific individual. These HRSNs are quite often a result\n",
        "of structural and/or social determinants of health that are in place. HRSN\n",
        "examples include: food insecurity, transportation barriers, loneliness,\n",
        "financial strain, and housing insecurity.\n",
        "\n",
        "\n",
        "**Housing insecurity** is the focus of this year’s case competition and is defined\n",
        "as the lack of access to quality and safe housing. It may include scenarios\n",
        "such as lack of affordability, unsafe/overcrowded conditions or frequent\n",
        "moves. 37.1 million American households are “housing cost-burdened,” and\n",
        "32.7% of older adult households have severe housing problems. Resulting\n",
        "health problems can range from allergies to neurological to heart damage.\n",
        "\n",
        "\n",
        "Using the provided data and potentially supplementing it with public data,\n",
        "create a model to identify Medicare members most likely to be struggling\n",
        "with housing insecurity issues and propose solutions that help people\n",
        "achieving their best health.\n",
        "\n",
        "\n",
        "Drive Link -https://drive.google.com/drive/folders/1BkKhETpHpzJs7k2jzbkgEl5qHr8Tm7LY?usp=sharing"
      ],
      "metadata": {
        "id": "22VNz_q_ypYD"
      }
    },
    {
      "cell_type": "markdown",
      "metadata": {
        "id": "izmEW6QFIcet"
      },
      "source": [
        "## Import modules, mount your Google Drive, read data\n",
        "Set up your environment"
      ]
    },
    {
      "cell_type": "code",
      "metadata": {
        "id": "TFZBE3YCH8ZX"
      },
      "source": [
        "# import modules\n",
        "import pandas as pd # for data analysis\n",
        "import numpy as np # for numeric functions\n",
        "import matplotlib.pyplot as plt # for plotting\n",
        "import seaborn as sns"
      ],
      "execution_count": null,
      "outputs": []
    },
    {
      "cell_type": "code",
      "metadata": {
        "id": "xM7B4cCgU78y",
        "colab": {
          "base_uri": "https://localhost:8080/"
        },
        "outputId": "8723344a-2b05-4b31-82d6-6aaf473d99de"
      },
      "source": [
        "# mount your google drive\n",
        "from google.colab import drive\n",
        "drive.mount('/content/drive')"
      ],
      "execution_count": null,
      "outputs": [
        {
          "output_type": "stream",
          "name": "stdout",
          "text": [
            "Mounted at /content/drive\n"
          ]
        }
      ]
    },
    {
      "cell_type": "code",
      "metadata": {
        "id": "qFZX7_0BVCO5"
      },
      "source": [
        "# read data\n",
        "# on the lefthand side, navigate to your data and copy the path\n",
        "df = pd.read_csv('/content/drive/MyDrive/TAMU Competition/2022_Competition_Training.csv',low_memory=False)\n",
        "#df = pd.read_excel('/content/drive/MyDrive/TAMU Competition/Training_sample.xlsx')"
      ],
      "execution_count": null,
      "outputs": []
    },
    {
      "cell_type": "code",
      "source": [
        "df.head()"
      ],
      "metadata": {
        "colab": {
          "base_uri": "https://localhost:8080/",
          "height": 299
        },
        "id": "gfhfzTWo--Me",
        "outputId": "3cff5a0a-6f06-46d0-c008-558282e3abce"
      },
      "execution_count": null,
      "outputs": [
        {
          "output_type": "execute_result",
          "data": {
            "text/plain": [
              "            id  rx_hum_19_pmpm_cost  cmsd2_can_mal_male_genital_pmpm_ct  \\\n",
              "0  100039218.0                  0.0                                 0.0   \n",
              "1  100042427.0                  0.0                                 0.0   \n",
              "2  100055103.0                  0.0                                 0.0   \n",
              "3  100074556.0                  0.0                                 0.0   \n",
              "4  100079932.0                  0.0                                 0.0   \n",
              "\n",
              "   cmsd2_inj_surgical_pmpm_ct  rev_pm_capd_pmpm_cd_ct  cci_chf_pmpm_ct  \\\n",
              "0                         0.0                     0.0              0.0   \n",
              "1                         0.0                     0.0              0.0   \n",
              "2                         0.0                     0.0              0.0   \n",
              "3                         0.0                     0.0              0.0   \n",
              "4                         0.0                     0.0              0.0   \n",
              "\n",
              "   rx_phar_cat_safeway_pmpm_ct  cmsd2_ext_car_pmpm_ct  \\\n",
              "0                          0.0                    0.0   \n",
              "1                          0.0                    0.0   \n",
              "2                          0.0                    0.0   \n",
              "3                          0.0                    0.0   \n",
              "4                          0.0                    0.0   \n",
              "\n",
              "   cmsd2_dig_liver_pmpm_ct  cmsd2_mus_arthropath_pmpm_ct  ...  \\\n",
              "0                      0.0                           0.0  ...   \n",
              "1                      0.0                           0.0  ...   \n",
              "2                      0.0                           0.0  ...   \n",
              "3                      0.0                           0.0  ...   \n",
              "4                      0.0                           0.0  ...   \n",
              "\n",
              "   cmsd2_ext_nature_pmpm_ct  cmsd2_gus_m_genital_pmpm_ct  atlas_totalpopacs  \\\n",
              "0                       0.0                         0.08            33511.0   \n",
              "1                       0.0                         0.00           176797.0   \n",
              "2                       0.0                         0.00           380673.0   \n",
              "3                       0.0                         0.00           267696.0   \n",
              "4                       0.0                         0.00            19095.0   \n",
              "\n",
              "   cmsd2_neo_neo_other_pmpm_ct  cmsd2_dig_hernia_pmpm_ct  \\\n",
              "0                          0.0                       0.0   \n",
              "1                          0.0                       0.0   \n",
              "2                          0.0                       0.0   \n",
              "3                          0.0                       0.0   \n",
              "4                          0.0                       0.0   \n",
              "\n",
              "   cmsd2_sns_blood_pmpm_ct  cmsd2_ext_compl_medical_care_pmpm_ct  \\\n",
              "0                     0.00                                   0.0   \n",
              "1                     0.00                                   0.0   \n",
              "2                     0.00                                   0.0   \n",
              "3                     0.00                                   0.0   \n",
              "4                     0.25                                   0.0   \n",
              "\n",
              "   rwjf_food_env_inx  atlas_snapspth16  hi_flag  \n",
              "0                9.1               NaN        0  \n",
              "1                6.8          0.670459        0  \n",
              "2                8.3          0.879186        0  \n",
              "3                7.3          0.746201        0  \n",
              "4                6.9               NaN        0  \n",
              "\n",
              "[5 rows x 881 columns]"
            ],
            "text/html": [
              "\n",
              "  <div id=\"df-adc8f689-59f1-484d-84c3-d9765b9e56dd\">\n",
              "    <div class=\"colab-df-container\">\n",
              "      <div>\n",
              "<style scoped>\n",
              "    .dataframe tbody tr th:only-of-type {\n",
              "        vertical-align: middle;\n",
              "    }\n",
              "\n",
              "    .dataframe tbody tr th {\n",
              "        vertical-align: top;\n",
              "    }\n",
              "\n",
              "    .dataframe thead th {\n",
              "        text-align: right;\n",
              "    }\n",
              "</style>\n",
              "<table border=\"1\" class=\"dataframe\">\n",
              "  <thead>\n",
              "    <tr style=\"text-align: right;\">\n",
              "      <th></th>\n",
              "      <th>id</th>\n",
              "      <th>rx_hum_19_pmpm_cost</th>\n",
              "      <th>cmsd2_can_mal_male_genital_pmpm_ct</th>\n",
              "      <th>cmsd2_inj_surgical_pmpm_ct</th>\n",
              "      <th>rev_pm_capd_pmpm_cd_ct</th>\n",
              "      <th>cci_chf_pmpm_ct</th>\n",
              "      <th>rx_phar_cat_safeway_pmpm_ct</th>\n",
              "      <th>cmsd2_ext_car_pmpm_ct</th>\n",
              "      <th>cmsd2_dig_liver_pmpm_ct</th>\n",
              "      <th>cmsd2_mus_arthropath_pmpm_ct</th>\n",
              "      <th>...</th>\n",
              "      <th>cmsd2_ext_nature_pmpm_ct</th>\n",
              "      <th>cmsd2_gus_m_genital_pmpm_ct</th>\n",
              "      <th>atlas_totalpopacs</th>\n",
              "      <th>cmsd2_neo_neo_other_pmpm_ct</th>\n",
              "      <th>cmsd2_dig_hernia_pmpm_ct</th>\n",
              "      <th>cmsd2_sns_blood_pmpm_ct</th>\n",
              "      <th>cmsd2_ext_compl_medical_care_pmpm_ct</th>\n",
              "      <th>rwjf_food_env_inx</th>\n",
              "      <th>atlas_snapspth16</th>\n",
              "      <th>hi_flag</th>\n",
              "    </tr>\n",
              "  </thead>\n",
              "  <tbody>\n",
              "    <tr>\n",
              "      <th>0</th>\n",
              "      <td>100039218.0</td>\n",
              "      <td>0.0</td>\n",
              "      <td>0.0</td>\n",
              "      <td>0.0</td>\n",
              "      <td>0.0</td>\n",
              "      <td>0.0</td>\n",
              "      <td>0.0</td>\n",
              "      <td>0.0</td>\n",
              "      <td>0.0</td>\n",
              "      <td>0.0</td>\n",
              "      <td>...</td>\n",
              "      <td>0.0</td>\n",
              "      <td>0.08</td>\n",
              "      <td>33511.0</td>\n",
              "      <td>0.0</td>\n",
              "      <td>0.0</td>\n",
              "      <td>0.00</td>\n",
              "      <td>0.0</td>\n",
              "      <td>9.1</td>\n",
              "      <td>NaN</td>\n",
              "      <td>0</td>\n",
              "    </tr>\n",
              "    <tr>\n",
              "      <th>1</th>\n",
              "      <td>100042427.0</td>\n",
              "      <td>0.0</td>\n",
              "      <td>0.0</td>\n",
              "      <td>0.0</td>\n",
              "      <td>0.0</td>\n",
              "      <td>0.0</td>\n",
              "      <td>0.0</td>\n",
              "      <td>0.0</td>\n",
              "      <td>0.0</td>\n",
              "      <td>0.0</td>\n",
              "      <td>...</td>\n",
              "      <td>0.0</td>\n",
              "      <td>0.00</td>\n",
              "      <td>176797.0</td>\n",
              "      <td>0.0</td>\n",
              "      <td>0.0</td>\n",
              "      <td>0.00</td>\n",
              "      <td>0.0</td>\n",
              "      <td>6.8</td>\n",
              "      <td>0.670459</td>\n",
              "      <td>0</td>\n",
              "    </tr>\n",
              "    <tr>\n",
              "      <th>2</th>\n",
              "      <td>100055103.0</td>\n",
              "      <td>0.0</td>\n",
              "      <td>0.0</td>\n",
              "      <td>0.0</td>\n",
              "      <td>0.0</td>\n",
              "      <td>0.0</td>\n",
              "      <td>0.0</td>\n",
              "      <td>0.0</td>\n",
              "      <td>0.0</td>\n",
              "      <td>0.0</td>\n",
              "      <td>...</td>\n",
              "      <td>0.0</td>\n",
              "      <td>0.00</td>\n",
              "      <td>380673.0</td>\n",
              "      <td>0.0</td>\n",
              "      <td>0.0</td>\n",
              "      <td>0.00</td>\n",
              "      <td>0.0</td>\n",
              "      <td>8.3</td>\n",
              "      <td>0.879186</td>\n",
              "      <td>0</td>\n",
              "    </tr>\n",
              "    <tr>\n",
              "      <th>3</th>\n",
              "      <td>100074556.0</td>\n",
              "      <td>0.0</td>\n",
              "      <td>0.0</td>\n",
              "      <td>0.0</td>\n",
              "      <td>0.0</td>\n",
              "      <td>0.0</td>\n",
              "      <td>0.0</td>\n",
              "      <td>0.0</td>\n",
              "      <td>0.0</td>\n",
              "      <td>0.0</td>\n",
              "      <td>...</td>\n",
              "      <td>0.0</td>\n",
              "      <td>0.00</td>\n",
              "      <td>267696.0</td>\n",
              "      <td>0.0</td>\n",
              "      <td>0.0</td>\n",
              "      <td>0.00</td>\n",
              "      <td>0.0</td>\n",
              "      <td>7.3</td>\n",
              "      <td>0.746201</td>\n",
              "      <td>0</td>\n",
              "    </tr>\n",
              "    <tr>\n",
              "      <th>4</th>\n",
              "      <td>100079932.0</td>\n",
              "      <td>0.0</td>\n",
              "      <td>0.0</td>\n",
              "      <td>0.0</td>\n",
              "      <td>0.0</td>\n",
              "      <td>0.0</td>\n",
              "      <td>0.0</td>\n",
              "      <td>0.0</td>\n",
              "      <td>0.0</td>\n",
              "      <td>0.0</td>\n",
              "      <td>...</td>\n",
              "      <td>0.0</td>\n",
              "      <td>0.00</td>\n",
              "      <td>19095.0</td>\n",
              "      <td>0.0</td>\n",
              "      <td>0.0</td>\n",
              "      <td>0.25</td>\n",
              "      <td>0.0</td>\n",
              "      <td>6.9</td>\n",
              "      <td>NaN</td>\n",
              "      <td>0</td>\n",
              "    </tr>\n",
              "  </tbody>\n",
              "</table>\n",
              "<p>5 rows × 881 columns</p>\n",
              "</div>\n",
              "      <button class=\"colab-df-convert\" onclick=\"convertToInteractive('df-adc8f689-59f1-484d-84c3-d9765b9e56dd')\"\n",
              "              title=\"Convert this dataframe to an interactive table.\"\n",
              "              style=\"display:none;\">\n",
              "        \n",
              "  <svg xmlns=\"http://www.w3.org/2000/svg\" height=\"24px\"viewBox=\"0 0 24 24\"\n",
              "       width=\"24px\">\n",
              "    <path d=\"M0 0h24v24H0V0z\" fill=\"none\"/>\n",
              "    <path d=\"M18.56 5.44l.94 2.06.94-2.06 2.06-.94-2.06-.94-.94-2.06-.94 2.06-2.06.94zm-11 1L8.5 8.5l.94-2.06 2.06-.94-2.06-.94L8.5 2.5l-.94 2.06-2.06.94zm10 10l.94 2.06.94-2.06 2.06-.94-2.06-.94-.94-2.06-.94 2.06-2.06.94z\"/><path d=\"M17.41 7.96l-1.37-1.37c-.4-.4-.92-.59-1.43-.59-.52 0-1.04.2-1.43.59L10.3 9.45l-7.72 7.72c-.78.78-.78 2.05 0 2.83L4 21.41c.39.39.9.59 1.41.59.51 0 1.02-.2 1.41-.59l7.78-7.78 2.81-2.81c.8-.78.8-2.07 0-2.86zM5.41 20L4 18.59l7.72-7.72 1.47 1.35L5.41 20z\"/>\n",
              "  </svg>\n",
              "      </button>\n",
              "      \n",
              "  <style>\n",
              "    .colab-df-container {\n",
              "      display:flex;\n",
              "      flex-wrap:wrap;\n",
              "      gap: 12px;\n",
              "    }\n",
              "\n",
              "    .colab-df-convert {\n",
              "      background-color: #E8F0FE;\n",
              "      border: none;\n",
              "      border-radius: 50%;\n",
              "      cursor: pointer;\n",
              "      display: none;\n",
              "      fill: #1967D2;\n",
              "      height: 32px;\n",
              "      padding: 0 0 0 0;\n",
              "      width: 32px;\n",
              "    }\n",
              "\n",
              "    .colab-df-convert:hover {\n",
              "      background-color: #E2EBFA;\n",
              "      box-shadow: 0px 1px 2px rgba(60, 64, 67, 0.3), 0px 1px 3px 1px rgba(60, 64, 67, 0.15);\n",
              "      fill: #174EA6;\n",
              "    }\n",
              "\n",
              "    [theme=dark] .colab-df-convert {\n",
              "      background-color: #3B4455;\n",
              "      fill: #D2E3FC;\n",
              "    }\n",
              "\n",
              "    [theme=dark] .colab-df-convert:hover {\n",
              "      background-color: #434B5C;\n",
              "      box-shadow: 0px 1px 3px 1px rgba(0, 0, 0, 0.15);\n",
              "      filter: drop-shadow(0px 1px 2px rgba(0, 0, 0, 0.3));\n",
              "      fill: #FFFFFF;\n",
              "    }\n",
              "  </style>\n",
              "\n",
              "      <script>\n",
              "        const buttonEl =\n",
              "          document.querySelector('#df-adc8f689-59f1-484d-84c3-d9765b9e56dd button.colab-df-convert');\n",
              "        buttonEl.style.display =\n",
              "          google.colab.kernel.accessAllowed ? 'block' : 'none';\n",
              "\n",
              "        async function convertToInteractive(key) {\n",
              "          const element = document.querySelector('#df-adc8f689-59f1-484d-84c3-d9765b9e56dd');\n",
              "          const dataTable =\n",
              "            await google.colab.kernel.invokeFunction('convertToInteractive',\n",
              "                                                     [key], {});\n",
              "          if (!dataTable) return;\n",
              "\n",
              "          const docLinkHtml = 'Like what you see? Visit the ' +\n",
              "            '<a target=\"_blank\" href=https://colab.research.google.com/notebooks/data_table.ipynb>data table notebook</a>'\n",
              "            + ' to learn more about interactive tables.';\n",
              "          element.innerHTML = '';\n",
              "          dataTable['output_type'] = 'display_data';\n",
              "          await google.colab.output.renderOutput(dataTable, element);\n",
              "          const docLink = document.createElement('div');\n",
              "          docLink.innerHTML = docLinkHtml;\n",
              "          element.appendChild(docLink);\n",
              "        }\n",
              "      </script>\n",
              "    </div>\n",
              "  </div>\n",
              "  "
            ]
          },
          "metadata": {},
          "execution_count": 40
        }
      ]
    },
    {
      "cell_type": "code",
      "source": [
        "df.shape"
      ],
      "metadata": {
        "colab": {
          "base_uri": "https://localhost:8080/"
        },
        "id": "da3pU5bU_Cge",
        "outputId": "ec45bac4-4d0a-4e67-d8c2-92314b96b25b"
      },
      "execution_count": null,
      "outputs": [
        {
          "output_type": "execute_result",
          "data": {
            "text/plain": [
              "(48300, 881)"
            ]
          },
          "metadata": {},
          "execution_count": 41
        }
      ]
    },
    {
      "cell_type": "code",
      "source": [
        "df.columns"
      ],
      "metadata": {
        "colab": {
          "base_uri": "https://localhost:8080/"
        },
        "id": "T-mWjL_F_VR8",
        "outputId": "87435a87-e567-4790-8ae5-8d27e606d0ba"
      },
      "execution_count": null,
      "outputs": [
        {
          "output_type": "execute_result",
          "data": {
            "text/plain": [
              "Index(['id', 'rx_hum_19_pmpm_cost', 'cmsd2_can_mal_male_genital_pmpm_ct',\n",
              "       'cmsd2_inj_surgical_pmpm_ct', 'rev_pm_capd_pmpm_cd_ct',\n",
              "       'cci_chf_pmpm_ct', 'rx_phar_cat_safeway_pmpm_ct',\n",
              "       'cmsd2_ext_car_pmpm_ct', 'cmsd2_dig_liver_pmpm_ct',\n",
              "       'cmsd2_mus_arthropath_pmpm_ct',\n",
              "       ...\n",
              "       'cmsd2_ext_nature_pmpm_ct', 'cmsd2_gus_m_genital_pmpm_ct',\n",
              "       'atlas_totalpopacs', 'cmsd2_neo_neo_other_pmpm_ct',\n",
              "       'cmsd2_dig_hernia_pmpm_ct', 'cmsd2_sns_blood_pmpm_ct',\n",
              "       'cmsd2_ext_compl_medical_care_pmpm_ct', 'rwjf_food_env_inx',\n",
              "       'atlas_snapspth16', 'hi_flag'],\n",
              "      dtype='object', length=881)"
            ]
          },
          "metadata": {},
          "execution_count": 42
        }
      ]
    },
    {
      "cell_type": "code",
      "source": [
        "df.info()"
      ],
      "metadata": {
        "colab": {
          "base_uri": "https://localhost:8080/"
        },
        "id": "YrQQFSya_L4t",
        "outputId": "d5d250e2-b26d-445d-ae9a-97bb53237d95"
      },
      "execution_count": null,
      "outputs": [
        {
          "output_type": "stream",
          "name": "stdout",
          "text": [
            "<class 'pandas.core.frame.DataFrame'>\n",
            "RangeIndex: 48300 entries, 0 to 48299\n",
            "Columns: 881 entries, id to hi_flag\n",
            "dtypes: float64(817), int64(57), object(7)\n",
            "memory usage: 324.6+ MB\n"
          ]
        }
      ]
    },
    {
      "cell_type": "markdown",
      "source": [
        "## Data Cleaning"
      ],
      "metadata": {
        "id": "i2N6hhx6_dlf"
      }
    },
    {
      "cell_type": "markdown",
      "source": [
        "### NULL Value Treatment"
      ],
      "metadata": {
        "id": "Dqc3-fY5Aq9E"
      }
    },
    {
      "cell_type": "code",
      "source": [
        "#Check for NULL in each column\n",
        "cnt=0\n",
        "for i in df.columns:\n",
        "  if(df[i].isnull().sum().sum()>0):\n",
        "    print(\"Column\",i,df[i].isnull().sum().sum())\n",
        "    cnt=cnt+1\n",
        "print(\"Number of columns with nulls\",cnt)\n",
        "#df.isnull().sum()"
      ],
      "metadata": {
        "colab": {
          "base_uri": "https://localhost:8080/"
        },
        "id": "ojHxRuax_fiI",
        "outputId": "82b8df97-a95e-48a1-bc3b-caf21244048b",
        "collapsed": true
      },
      "execution_count": null,
      "outputs": [
        {
          "output_type": "stream",
          "name": "stdout",
          "text": [
            "Column rev_pm_capd_pmpm_cd_ct 7\n",
            "Column cmsd2_ext_car_pmpm_ct 26\n",
            "Column cmsd2_mus_arthropath_pmpm_ct 45\n",
            "Column rwjf_homicides_rate 12277\n",
            "Column rwjf_premature_death_rate 11644\n",
            "Column cnt_cp_print_0 28\n",
            "Column rwjf_poor_men_hlth_days 11639\n",
            "Column total_ip_maternity_admit_days_pmpm 1\n",
            "Column rx_hum_10_pmpm_ct 46\n",
            "Column cmsd2_ano_mus_pmpm_ct 91\n",
            "Column rx_hum_61_pmpm_ct 84\n",
            "Column cmsd2_inj_burns_int_pmpm_ct 8\n",
            "Column cmsd2_mus_autoinf_pmpm_ct 6\n",
            "Column cnt_cp_emails_9 65\n",
            "Column cmsd2_ext_other_land_transport_pmpm_ct 27\n",
            "Column dcsi_score 9\n",
            "Column bh_ambulance_visit_ct_pmpm 52\n",
            "Column cnt_cp_print_1 10\n",
            "Column cmsd2_inf_infectious_pmpm_ct 41\n",
            "Column bh_urgent_care_allowed_pmpm_cost 22\n",
            "Column credit_bal_nonmtgcredit_60dpd 45173\n",
            "Column cmsd2_cir_ac_rheum_fever_pmpm_ct 8\n",
            "Column cmsd2_can_mal_end_pmpm_ct 85\n",
            "Column rx_hum_37_pmpm_cost 2\n",
            "Column bh_otic_pmpm_ct 8\n",
            "Column cmsd2_res_res_postop_pmpm_ct 112\n",
            "Column cnt_cp_emails_0 38\n",
            "Column rev_pm_hospc_pmpm_cd_ct 1\n",
            "Column cmsd2_inj_trauma_pmpm_ct 30\n",
            "Column rx_hum_30_pmpm_ct 29\n",
            "Column cnt_cp_print_7 26\n",
            "Column cnt_cp_vat_0 18\n",
            "Column cons_lwcm10 21417\n",
            "Column cons_hxmioc 11172\n",
            "Column cmsd2_ext_med_device_pmpm_ct 27\n",
            "Column cmsd2_inj_burns_ext_pmpm_ct 17\n",
            "Column rev_pm_audio_pmpm_cd_ct 20\n",
            "Column credit_hh_autobank 45181\n",
            "Column cnt_cp_emails_5 52\n",
            "Column atlas_naturalchangerate1016 11638\n",
            "Column rev_pm_ccpd_pmpm_cd_ct 8\n",
            "Column cmsd2_inf_infestation_pmpm_ct 3\n",
            "Column rx_hum_41_pmpm_ct 37\n",
            "Column rx_hum_57_pmpm_ct 43\n",
            "Column cmsd2_men_intellectual_pmpm_ct 12\n",
            "Column bh_otsd_pmpm_ct 52\n",
            "Column cmsd2_dig_appendix_pmpm_ct 41\n",
            "Column rev_pm_ambul_pmpm_cd_ct 44\n",
            "Column cmsd2_ext_bike_pmpm_ct 5\n",
            "Column cmsd2_pre_obstetric_pmpm_ct 1\n",
            "Column cmsd2_ext_overexertion_pmpm_ct 12\n",
            "Column total_ip_ltach_admit_days_pmpm 7\n",
            "Column cmsd2_gus_genital_postop_pmpm_ct 22\n",
            "Column rev_pm_drlr_pmpm_cd_ct 1\n",
            "Column rev_pm_onco_pmpm_cd_ct 2\n",
            "Column rx_hum_27_pmpm_cost 6\n",
            "Column total_ip_ltach_allowed_pmpm_cost 5\n",
            "Column cci_hiv_n_pmpm_ct 69\n",
            "Column credit_num_1stmtg_collections 43469\n",
            "Column rx_hum_20_pmpm_cost 1\n",
            "Column rwjf_dentists_ratio 11619\n",
            "Column cmsd2_ext_occ_van/truck_pmpm_ct 1\n",
            "Column cmsd2_inf_cns_pmpm_ct 1\n",
            "Column bh_suat_pmpm_ct 1\n",
            "Column cmsd2_inf_herpes_pmpm_ct 72\n",
            "Column cons_hxmboh 11159\n",
            "Column cmsd2_inf_spirochetal_pmpm_ct 27\n",
            "Column bh_otot_pmpm_ct 19\n",
            "Column cci_aoi_pmpm_ct 1\n",
            "Column rev_pm_excl_pmpm_cd_ct 8\n",
            "Column rev_pm_spcha_pmpm_cd_ct 1\n",
            "Column cnt_cp_print_8 8\n",
            "Column cmsd2_ano_urinary_pmpm_ct 51\n",
            "Column cmsd1_neo_pmpm_ct 9\n",
            "Column cmsd2_ano_ano_res_pmpm_ct 2\n",
            "Column bh_ednd_pmpm_ct 1\n",
            "Column rwjf_air_pollute_density 332\n",
            "Column cons_mobplus 11150\n",
            "Column cmsd2_can_mal_meso/sft_tissue_pmpm_ct 23\n",
            "Column rx_hum_84_pmpm_ct 6\n",
            "Column cmsd2_ext_under_intent_pmpm_ct 3\n",
            "Column cnt_cp_vat_11 29\n",
            "Column credit_bal_consumerfinance_new 45188\n",
            "Column cnt_cp_vat_5 19\n",
            "Column cnt_cp_emails_8 30\n",
            "Column cms_tot_partd_payment_amt 45981\n",
            "Column rx_hum_03_pmpm_ct 3\n",
            "Column rev_pm_osteo_pmpm_cd_ct 1\n",
            "Column cmsd2_men_men_adult_pmpm_ct 37\n",
            "Column cmsd2_ext_med_proc_compl_pmpm_ct 1\n",
            "Column cmsd2_mus_mus_other_pmpm_ct 10\n",
            "Column cons_stlnindx 11168\n",
            "Column cmsd2_vco_genetic_pmpm_ct 12\n",
            "Column total_er_obs_ct_pmpm 4\n",
            "Column cmsd2_ext_animate_mech_force_pmpm_ct 16\n",
            "Column cmsd2_inf_protozoal_pmpm_ct 2\n",
            "Column cmsd2_vco_repro_pmpm_ct 5\n",
            "Column cmsd2_inf_sti_pmpm_ct 4\n",
            "Column cnt_cp_vat_6 43\n",
            "Column cnt_cp_vat_1 16\n",
            "Column cmsd2_inf_tb_pmpm_ct 1\n",
            "Column rev_pm_inc_pmpm_cd_ct 1\n",
            "Column cmsd2_ner_cns_atrophy_pmpm_ct 22\n",
            "Column cms_ra_factor_type_cd 2461\n",
            "Column cons_ccip 11190\n",
            "Column bh_psot_pmpm_ct 36\n",
            "Column cmsd2_inj_inj_mult_pmpm_ct 6\n",
            "Column bh_ndid_pmpm_ct 11\n",
            "Column rx_hum_14_pmpm_ct 8\n",
            "Column cms_risk_adj_payment_rate_b_amt 48276\n",
            "Column cmsd2_men_men_other_pmpm_ct 2\n",
            "Column cci_score 48\n",
            "Column rx_hum_18_pmpm_ct 34\n",
            "Column rwjf_drinkwater_violate_ind 1214\n",
            "Column cnt_cp_vat_9 24\n",
            "Column rev_pm_conv_pmpm_cd_ct 1\n",
            "Column atlas_pct_diabetes_adults13 381\n",
            "Column rwjf_teen_births_rate 11651\n",
            "Column cons_homstat 11159\n",
            "Column atlas_net_international_migration_rate 11150\n",
            "Column cmsd2_inf_parasitic_pmpm_ct 11\n",
            "Column cnt_cp_print_2 16\n",
            "Column rwjf_mv_deaths_rate 11656\n",
            "Column cnt_cp_emails_7 30\n",
            "Column rwjf_population 11615\n",
            "Column cms_orig_reas_entitle_cd 1867\n",
            "Column cons_stlindex 11159\n",
            "Column cmsd2_mus_periprosthetic_pmpm_ct 10\n",
            "Column rwjf_violent_crime_rate 11847\n",
            "Column rx_hum_67_pmpm_ct 1\n",
            "Column rev_pm_swtrp_pmpm_cd_ct 8\n",
            "Column rx_hum_79_pmpm_ct 1\n",
            "Column rev_pm_traum_pmpm_cd_ct 2\n",
            "Column cnt_cp_vat_7 17\n",
            "Column cnt_cp_emails_1 14\n",
            "Column rx_hum_48_pmpm_cost 2\n",
            "Column total_ip_ltach_ds_clm 2\n",
            "Column cmsd2_ext_pedestrian_pmpm_ct 2\n",
            "Column rx_hum_77_pmpm_ct 1\n",
            "Column med_ip_ltach_ds_clm 1\n",
            "Column cms_risk_adjustment_factor_a_amt 18867\n",
            "Column total_ip_mhsa_admit_ct_pmpm 2\n",
            "Column rwjf_premature_mortality 11675\n",
            "Column cmsd2_ext_inanimate_mech_force_pmpm_ct 20\n",
            "Column cnt_cp_vat_10 19\n",
            "Column cmsd2_sns_mortality_pmpm_ct 9\n",
            "Column rev_pm_dme_pmpm_cd_ct 1\n",
            "Column cmsd2_neo_perinatal_other_pmpm_ct 1\n",
            "Column bh_otpr_pmpm_ct 45\n",
            "Column cnt_cp_print_9 14\n",
            "Column bh_apho_pmpm_ct 12\n",
            "Column cnt_cp_vat_4 29\n",
            "Column rx_hum_48_pmpm_ct 1\n",
            "Column rx_hum_14_pmpm_cost 3\n",
            "Column cmsd2_ano_eye/ear/face/neck_pmpm_ct 8\n",
            "Column rwjf_child_mortality 11768\n",
            "Column cmsd2_can_mal_eye/brain/cns_pmpm_ct 21\n",
            "Column bh_otds_pmpm_ct 8\n",
            "Column cmsd1_pre_pmpm_ct 1\n",
            "Column cmsd2_inj_substances_pmpm_ct 8\n",
            "Column cmsd2_skn_skn_postop_pmpm_ct 6\n",
            "Column cmsd2_can_sec_end_pmpm_ct 1\n",
            "Column credit_bal_bankcard_severederog 45212\n",
            "Column credit_hh_agencyfirstmtg_new 45299\n",
            "Column cmsd2_ext_assault_pmpm_ct 5\n",
            "Column credit_prcnt_mtgcredit 45217\n",
            "Column rx_hum_65_pmpm_cost 13\n",
            "Column rx_hum_59_pmpm_ct 13\n",
            "Column cmsd2_can_mal_oral_pmpm_ct 20\n",
            "Column rwjf_preventable_ip_rate 9617\n",
            "Column cmsd2_ano_chr_ab_pmpm_ct 7\n",
            "Column total_ip_rehab_admit_ct_pmpm 7\n",
            "Column cnt_cp_vat_8 41\n",
            "Column lang_spoken_cd 18936\n",
            "Column cnt_cp_emails_11 11\n",
            "Column cms_ma_risk_score_nbr 19397\n",
            "Column cmsd2_men_developmental_pmpm_ct 7\n",
            "Column rx_hum_22_pmpm_ct 24\n",
            "Column rx_hum_83_pmpm_cost 9\n",
            "Column rev_pm_eeg_pmpm_cd_ct 45\n",
            "Column rev_pm_orgacq_pmpm_cd_ct 1\n",
            "Column cmsd2_inj_burns_other_pmpm_ct 1\n",
            "Column cmsd2_can_mal_bone_pmpm_ct 3\n",
            "Column bh_auts_pmpm_ct 4\n",
            "Column rx_hum_00_pmpm_ct 7\n",
            "Column cmsd2_can_mal_neuro_end_pmpm_ct 9\n",
            "Column cnt_cp_vat_2 34\n",
            "Column cmsd2_vco_hormone_pmpm_ct 3\n",
            "Column credit_bal_autobank_new 45243\n",
            "Column cmsd2_ext_acc_exposure_pmpm_ct 18\n",
            "Column rev_pm_homeiv_pmpm_cd_ct 1\n",
            "Column rx_hum_64_pmpm_ct 1\n",
            "Column cms_partd_ra_factor_amt 18975\n",
            "Column cmsd2_eye_optic_nerve_pmpm_ct 54\n",
            "Column cnt_cp_print_6 18\n",
            "Column bh_atot_pmpm_ct 24\n",
            "Column bh_edot_pmpm_ct 2\n",
            "Column cnt_cp_emails_6 13\n",
            "Column credit_num_autobank_new 45238\n",
            "Column rwjf_hiv_rate 8874\n",
            "Column rwjf_poor_phy_hlth_days 11680\n",
            "Column cnt_cp_print_5 5\n",
            "Column cmsd2_vco_fragment_pmpm_ct 2\n",
            "Column cnt_cp_print_3 20\n",
            "Column cmsd2_vco_dnr_pmpm_ct 8\n",
            "Column bh_otso_pmpm_ct 19\n",
            "Column cmsd2_skn_bullous_pmpm_ct 3\n",
            "Column cnt_cp_emails_10 11\n",
            "Column rwjf_income_inequ_ratio 11679\n",
            "Column credit_num_nonmtgcredit_60dpd 45232\n",
            "Column rev_pm_dialys_pmpm_cd_ct 10\n",
            "Column rx_hum_02_pmpm_ct 1\n",
            "Column rx_hum_46_pmpm_ct 5\n",
            "Column cons_hxmh 11187\n",
            "Column cnt_cp_emails_4 17\n",
            "Column rwjf_men_hlth_prov_ratio 11683\n",
            "Column bh_ndlr_pmpm_ct 3\n",
            "Column total_ip_rehab_admit_days_pmpm 65\n",
            "Column cmsd2_can_ben_end_pmpm_ct 4\n",
            "Column cmsd2_ano_ano_other_pmpm_ct 6\n",
            "Column cmsd2_ner_cns_inf_pmpm_ct 2\n",
            "Column rwjf_std_infect_rate 10907\n",
            "Column rwjf_median_house_income 11612\n",
            "Column rx_hum_27_pmpm_ct 4\n",
            "Column cnt_cp_print_4 3\n",
            "Column rx_hum_83_pmpm_ct 5\n",
            "Column rx_hum_26_pmpm_ct 30\n",
            "Column cmsd2_ext_heat/hot_subst_pmpm_ct 1\n",
            "Column cmsd2_res_suppurative/necrotic_pmpm_ct 3\n",
            "Column total_ip_ltach_admit_ct_pmpm 2\n",
            "Column cnt_cp_print_10 11\n",
            "Column cnt_cp_vat_3 16\n",
            "Column cnt_cp_print_11 3\n",
            "Column bh_ncti_pmpm_ct 9\n",
            "Column atlas_orchard_farms12 892\n",
            "Column rx_hum_46_pmpm_cost 5\n",
            "Column rev_pm_pertdia_pmpm_cd_ct 1\n",
            "Column cmsd2_mus_jaw_pmpm_ct 10\n",
            "Column cmsd2_vco_resistance_pmpm_ct 4\n",
            "Column rev_pm_tel_pmpm_cd_ct 12\n",
            "Column cmsd2_ear_compl_pmpm_ct 1\n",
            "Column cmsd2_ext_motorcycle_pmpm_ct 1\n",
            "Column cmsd2_inj_foreign_body_pmpm_ct 11\n",
            "Column cnt_cp_emails_2 38\n",
            "Column cnt_cp_emails_3 36\n",
            "Column cmsd2_ano_dig_pmpm_ct 8\n",
            "Column rx_hum_02_pmpm_cost 1\n",
            "Column cmsd2_ano_ner_pmpm_ct 1\n",
            "Column cms_rx_risk_score_nbr 20313\n",
            "Column cmsd2_gus_glomerular_pmpm_ct 4\n",
            "Column rx_phar_cat_caremark_pmpm_ct 1\n",
            "Column rwjf_pcp_rate 11695\n",
            "Column bh_ndot_pmpm_ct 4\n",
            "Column cmsd2_eye_eye_postop_pmpm_ct 1\n",
            "Column rx_hum_84_pmpm_cost 2\n",
            "Column rx_hum_77_pmpm_cost 15\n",
            "Column rx_hum_65_pmpm_ct 9\n",
            "Column cmsd2_ext_nature_pmpm_ct 19\n",
            "Column rwjf_food_env_inx 370\n",
            "Column atlas_snapspth16 11712\n",
            "Number of columns with nulls 260\n"
          ]
        }
      ]
    },
    {
      "cell_type": "markdown",
      "source": [
        "**NULL Value treatment for Scalar Variables**\n",
        "\n",
        "1.   Remove the columns which have NULLS poct more than 20% for scalar variables\n",
        "2.   For others, replace the NULLS with median\n",
        "\n",
        "\n"
      ],
      "metadata": {
        "id": "_wKhOWumnKJj"
      }
    },
    {
      "cell_type": "code",
      "source": [
        "#check nulls for predicted column\n",
        "a=df['hi_flag'].isnull().sum()\n",
        "print(\"There are\", a ,\"NULLs in the target variable\")"
      ],
      "metadata": {
        "colab": {
          "base_uri": "https://localhost:8080/"
        },
        "id": "zQOc9RqOoqNE",
        "outputId": "56143e27-6299-4b55-a6eb-b8851a88046b"
      },
      "execution_count": null,
      "outputs": [
        {
          "output_type": "stream",
          "name": "stdout",
          "text": [
            "There are 0 NULLs in the target variable\n"
          ]
        }
      ]
    },
    {
      "cell_type": "code",
      "source": [
        "#Step 1 - Remove the columns with more than 20% NULLs\n",
        "\n",
        "for i in df.describe().columns:\n",
        "  if(df[i].isnull().sum()/len(df)>0.2):\n",
        "    df.drop(columns=i,axis=1,inplace=True)"
      ],
      "metadata": {
        "id": "ZsrfnqBDncbK"
      },
      "execution_count": null,
      "outputs": []
    },
    {
      "cell_type": "code",
      "source": [
        "#Step 2 -Replace NULLs with median for other variables\n",
        "for i in df.describe().columns:\n",
        "  df[i].fillna(df[i].median(),inplace=True)    "
      ],
      "metadata": {
        "collapsed": true,
        "id": "mSKI_OYVp3Ap"
      },
      "execution_count": null,
      "outputs": []
    },
    {
      "cell_type": "code",
      "source": [
        "# Check for NULLs again\n",
        "# All these columsn should be categorical variables \n",
        "cnt=0\n",
        "null_catg_cols=[]\n",
        "for i in df.columns:\n",
        "  if(df[i].isnull().sum().sum()>0):\n",
        "    print(\"Column\",i,df[i].isnull().sum().sum())\n",
        "    null_catg_cols.append(i)\n",
        "    cnt=cnt+1\n",
        "print(\"Number of columns with nulls\",cnt)\n",
        "null_catg_cols"
      ],
      "metadata": {
        "colab": {
          "base_uri": "https://localhost:8080/"
        },
        "collapsed": true,
        "id": "BXa4ZmozqoZI",
        "outputId": "067dc014-cc8c-49ba-dff2-9b3b3124ab17"
      },
      "execution_count": null,
      "outputs": [
        {
          "output_type": "stream",
          "name": "stdout",
          "text": [
            "Column cons_mobplus 11150\n",
            "Column cms_ra_factor_type_cd 2461\n",
            "Column cons_homstat 11159\n",
            "Column lang_spoken_cd 18936\n",
            "Number of columns with nulls 4\n"
          ]
        },
        {
          "output_type": "execute_result",
          "data": {
            "text/plain": [
              "['cons_mobplus', 'cms_ra_factor_type_cd', 'cons_homstat', 'lang_spoken_cd']"
            ]
          },
          "metadata": {},
          "execution_count": 48
        }
      ]
    },
    {
      "cell_type": "markdown",
      "source": [
        "**NULL Value treatment for Categorical Variables**\n",
        "\n",
        "1.   Remove the columns with either Unknown or OTH to not drop any releveant information\n",
        "\n",
        "\n"
      ],
      "metadata": {
        "id": "Wj9enLNduscb"
      }
    },
    {
      "cell_type": "code",
      "source": [
        "#Step 3 - For categorical variables, replace NULLS with Unknown\n",
        "\n",
        "#Column cons_mobplus 237 - U\n",
        "#Column cms_ra_factor_type_cd 54 - U\n",
        "#Column cons_homstat 238 - U\n",
        "#Column lang_spoken_cd 421 - OTH\n",
        "\n",
        "for i in null_catg_cols:\n",
        "  if(i=='lang_spoken_cd'):\n",
        "    #df[i].isnull().sum()/len(df)>0.2):\n",
        "    df[i].fillna('OTH',inplace=True)\n",
        "  else:\n",
        "    df[i].fillna('U',inplace=True)"
      ],
      "metadata": {
        "id": "0u2WEiampVBc"
      },
      "execution_count": null,
      "outputs": []
    },
    {
      "cell_type": "code",
      "source": [
        "# Check for NULLs again\n",
        "# No columns should have NULLs\n",
        "cnt=0\n",
        "for i in df.columns:\n",
        "  if(df[i].isnull().sum().sum()>0):\n",
        "    print(\"Column\",i,df[i].isnull().sum().sum())\n",
        "    #null_catg_cols.append(i)\n",
        "    cnt=cnt+1\n",
        "print(\"Number of columns with nulls\",cnt)\n"
      ],
      "metadata": {
        "colab": {
          "base_uri": "https://localhost:8080/"
        },
        "id": "Cv2gHOjFuhar",
        "outputId": "244f2dc5-8d28-4564-b9b1-6bad2c5b0b4a"
      },
      "execution_count": null,
      "outputs": [
        {
          "output_type": "stream",
          "name": "stdout",
          "text": [
            "Number of columns with nulls 0\n"
          ]
        }
      ]
    },
    {
      "cell_type": "markdown",
      "source": [
        "### Outliers Treatment"
      ],
      "metadata": {
        "id": "tCakjo2RvCgr"
      }
    },
    {
      "cell_type": "code",
      "source": [
        "#Check for outliers based on standard defintion of 25% and 75% quantiles\n",
        "Q1=df.quantile(0.25)\n",
        "Q3=df.quantile(0.75)\n",
        "\n",
        "IQR=Q3-Q1\n",
        "\n",
        "((df<(Q1-1.5*IQR))|(df>(Q3+1.5*IQR))).any()"
      ],
      "metadata": {
        "colab": {
          "base_uri": "https://localhost:8080/"
        },
        "id": "L0CO582pvEd3",
        "outputId": "bb1643ea-7b70-4409-d4e2-00bc23c51f7d"
      },
      "execution_count": null,
      "outputs": [
        {
          "output_type": "stream",
          "name": "stderr",
          "text": [
            "Automatic reindexing on DataFrame vs Series comparisons is deprecated and will raise ValueError in a future version.  Do `left, right = left.align(right, axis=1, copy=False)` before e.g. `left == right`\n"
          ]
        },
        {
          "output_type": "execute_result",
          "data": {
            "text/plain": [
              "atlas_age65andolderpct2010              True\n",
              "atlas_orchard_farms12                   True\n",
              "atlas_pct_diabetes_adults13             True\n",
              "atlas_totalocchu                        True\n",
              "atlas_totalpopacs                       True\n",
              "                                        ... \n",
              "total_physician_office_ds_clm           True\n",
              "total_physician_office_visit_ct_pmpm    True\n",
              "total_urgent_care_allowed_pmpm_cost     True\n",
              "total_urgent_care_ds_clm                True\n",
              "total_urgent_care_visit_ct_pmpm         True\n",
              "Length: 839, dtype: bool"
            ]
          },
          "metadata": {},
          "execution_count": 51
        }
      ]
    },
    {
      "cell_type": "code",
      "source": [
        "#Upper and Lower limits using standard definition. This will be used to replace the outlier values if necessary (Based on team's discussion)\n",
        "dict={}\n",
        "for col in df.describe().columns:\n",
        "  percentile75=df[col].quantile(0.75)\n",
        "  percentile25=df[col].quantile(0.25)\n",
        "  IQR=percentile75-percentile25\n",
        "  upper_limit=percentile75+1.5*IQR\n",
        "  lower_limit=percentile25-1.5*IQR\n",
        "  dict['upper_limit'+'_'+col]=upper_limit\n",
        "  dict['lower_limit'+'_'+col]=lower_limit"
      ],
      "metadata": {
        "id": "dSvKmQgewCv1"
      },
      "execution_count": null,
      "outputs": []
    },
    {
      "cell_type": "code",
      "source": [
        "#Check a sample\n",
        "print(dict['lower_limit_rx_hum_32_pmpm_ct'])\n",
        "print(dict['upper_limit_rx_hum_32_pmpm_ct'])"
      ],
      "metadata": {
        "colab": {
          "base_uri": "https://localhost:8080/"
        },
        "id": "tP70WLE0wprs",
        "outputId": "60b812af-9184-4410-9069-6da709dca846"
      },
      "execution_count": null,
      "outputs": [
        {
          "output_type": "stream",
          "name": "stdout",
          "text": [
            "-0.12\n",
            "0.2\n"
          ]
        }
      ]
    },
    {
      "cell_type": "code",
      "source": [
        "#dict\n",
        "lst=[]\n",
        "lower_limit=[]\n",
        "upper_limit=[]\n",
        "max=[]\n",
        "min=[]\n",
        "lqo=[]\n",
        "uqo=[]\n",
        "median=[]\n",
        "mean=[]\n",
        "for i in df.describe().columns:\n",
        "  lqo_value=len(df[(df[i]<dict['lower_limit_'+i])])\n",
        "  uqo_value=len(df[(df[i]>dict['upper_limit_'+i])])\n",
        "  lst.append(i)\n",
        "  lqo.append(lqo_value)\n",
        "  uqo.append(uqo_value)\n",
        "  lower_limit.append(dict['lower_limit_'+i])\n",
        "  upper_limit.append(dict['upper_limit_'+i])\n",
        "  min.append(df[i].min())\n",
        "  max.append(df[i].max())\n",
        "  mean.append(df[i].mean())\n",
        "  median.append(df[i].median())\n",
        "outlier_df=pd.DataFrame()\n",
        "outlier_df['lst']=lst\n",
        "outlier_df['lqo']=lqo\n",
        "outlier_df['uqo']=uqo\n",
        "outlier_df['lower_limit']=lower_limit\n",
        "outlier_df['upper_limit']=upper_limit\n",
        "outlier_df['min']=min\n",
        "outlier_df['max']=max\n",
        "outlier_df['mean']=mean\n",
        "outlier_df['median']=median\n",
        "outlier_df.to_csv('outlier_df.csv')"
      ],
      "metadata": {
        "collapsed": true,
        "id": "6ZfN6_z6wPcq"
      },
      "execution_count": null,
      "outputs": []
    },
    {
      "cell_type": "markdown",
      "source": [
        "Based on observations, all technical outliers seems valid based on few smaple checks . So no treatment has been given for outliers"
      ],
      "metadata": {
        "id": "3BBpjbC05Xq-"
      }
    },
    {
      "cell_type": "markdown",
      "source": [
        "## Feature Engineering"
      ],
      "metadata": {
        "id": "RLaHUYbx7bcC"
      }
    },
    {
      "cell_type": "markdown",
      "source": [
        "### Variable importance "
      ],
      "metadata": {
        "id": "4vRU3Jeb7qts"
      }
    },
    {
      "cell_type": "markdown",
      "source": [
        "As there are lot of variables, it is better to filter the important variables using XG Boost or Decision Tree and then explore further "
      ],
      "metadata": {
        "id": "TYaJmz-h73hJ"
      }
    },
    {
      "cell_type": "markdown",
      "source": [
        "**Oversampling**"
      ],
      "metadata": {
        "id": "is4jGlziq7Fq"
      }
    },
    {
      "cell_type": "code",
      "source": [
        "df2=df.copy()"
      ],
      "metadata": {
        "id": "ifBZ-WUy-9CA"
      },
      "execution_count": null,
      "outputs": []
    },
    {
      "cell_type": "code",
      "source": [
        "df2['hi_flag'].value_counts()/len(df2)"
      ],
      "metadata": {
        "colab": {
          "base_uri": "https://localhost:8080/"
        },
        "id": "L85q-obBfROj",
        "outputId": "ebd54ce8-1a56-4e68-a012-db2d7a45de9a"
      },
      "execution_count": null,
      "outputs": [
        {
          "output_type": "execute_result",
          "data": {
            "text/plain": [
              "0    0.956149\n",
              "1    0.043851\n",
              "Name: hi_flag, dtype: float64"
            ]
          },
          "metadata": {},
          "execution_count": 72
        }
      ]
    },
    {
      "cell_type": "code",
      "source": [
        "# Visualize the data\n",
        "plt.figure(figsize=(8, 8))\n",
        "sns.scatterplot(x = 'total_urgent_care_ds_clm',y='total_urgent_care_visit_ct_pmpm', hue = 'hi_flag', data = df2)"
      ],
      "metadata": {
        "colab": {
          "base_uri": "https://localhost:8080/",
          "height": 515
        },
        "id": "lQF9YTaekYqI",
        "outputId": "5dfdd645-5f36-4a54-d784-8c79239acd63"
      },
      "execution_count": null,
      "outputs": [
        {
          "output_type": "execute_result",
          "data": {
            "text/plain": [
              "<matplotlib.axes._subplots.AxesSubplot at 0x7fac739ea190>"
            ]
          },
          "metadata": {},
          "execution_count": 78
        },
        {
          "output_type": "display_data",
          "data": {
            "text/plain": [
              "<Figure size 576x576 with 1 Axes>"
            ],
            "image/png": "[encoded data removed]"
          },
          "metadata": {
            "needs_background": "light"
          }
        }
      ]
    },
    {
      "cell_type": "code",
      "source": [
        "catg_columns=['cons_mobplus', 'cms_ra_factor_type_cd', 'cons_homstat', 'cms_orig_reas_entitle_cd', 'sex_cd', 'lang_spoken_cd', 'rucc_category', 'cms_race_cd']\n",
        "df2 = pd.get_dummies(df, columns=catg_columns, drop_first=True)\n",
        "df2.head()\n",
        "\n",
        "y=df2['hi_flag']\n",
        "X=df2.drop(columns=['hi_flag'])\n"
      ],
      "metadata": {
        "id": "dLZ20tGL-J5N"
      },
      "execution_count": null,
      "outputs": []
    },
    {
      "cell_type": "markdown",
      "source": [
        "Over sample the dataset and calculate the variable importance"
      ],
      "metadata": {
        "id": "Y8XUi8-zlpIp"
      }
    },
    {
      "cell_type": "code",
      "source": [
        "# Oversampling and under sampling\n",
        "from imblearn.over_sampling import RandomOverSampler, SMOTE\n",
        "from imblearn.under_sampling import RandomUnderSampler, NearMiss\n",
        "from collections import Counter"
      ],
      "metadata": {
        "id": "Yz54gNo7l63F"
      },
      "execution_count": null,
      "outputs": []
    },
    {
      "cell_type": "code",
      "source": [
        "# Randomly over sample the minority class\n",
        "ros = RandomOverSampler(random_state=42)\n",
        "X_train_ros, y_train_ros= ros.fit_resample(X, y)\n",
        "# Check the number of records after over sampling\n",
        "print(sorted(Counter(y).items()))\n",
        "print(sorted(Counter(y_train_ros).items()))"
      ],
      "metadata": {
        "colab": {
          "base_uri": "https://localhost:8080/"
        },
        "id": "5rEigS6-lr5r",
        "outputId": "8d60e635-1acf-44bd-fe0c-cc75539558b5"
      },
      "execution_count": null,
      "outputs": [
        {
          "output_type": "stream",
          "name": "stdout",
          "text": [
            "[(0, 46182), (1, 2118)]\n",
            "[(0, 46182), (1, 46182)]\n"
          ]
        }
      ]
    },
    {
      "cell_type": "markdown",
      "source": [
        "**XG Boost**"
      ],
      "metadata": {
        "id": "7wJmigKyqyda"
      }
    },
    {
      "cell_type": "code",
      "source": [
        "# plot feature importance manually\n",
        "from numpy import loadtxt\n",
        "from xgboost import XGBClassifier\n",
        "from matplotlib import pyplot\n"
      ],
      "metadata": {
        "id": "5agG0Uyj7gxY"
      },
      "execution_count": null,
      "outputs": []
    },
    {
      "cell_type": "code",
      "source": [
        "\n",
        "# fit model no training data\n",
        "model = XGBClassifier()\n",
        "model.fit(X_train_ros, y_train_ros)\n",
        "# feature importance\n",
        "print(model.feature_importances_)\n"
      ],
      "metadata": {
        "colab": {
          "base_uri": "https://localhost:8080/"
        },
        "collapsed": true,
        "id": "LD7FiknmWIs_",
        "outputId": "7248a395-bf9a-4fde-f72c-c3be408f0264"
      },
      "execution_count": null,
      "outputs": [
        {
          "output_type": "stream",
          "name": "stdout",
          "text": [
            "[0.00284787 0.0032149  0.00270438 0.00073319 0.         0.\n",
            " 0.         0.         0.         0.         0.         0.\n",
            " 0.         0.         0.00190344 0.00372362 0.00307441 0.00268651\n",
            " 0.00374841 0.         0.00235424 0.         0.         0.\n",
            " 0.         0.         0.         0.         0.         0.00428633\n",
            " 0.         0.         0.         0.00321491 0.         0.\n",
            " 0.         0.01749751 0.00303843 0.         0.         0.\n",
            " 0.00442801 0.         0.         0.         0.0011786  0.\n",
            " 0.         0.         0.00510077 0.00375337 0.         0.\n",
            " 0.         0.00340172 0.00145585 0.         0.         0.\n",
            " 0.         0.         0.00300911 0.         0.         0.\n",
            " 0.         0.0234186  0.         0.         0.         0.\n",
            " 0.         0.         0.         0.         0.         0.\n",
            " 0.         0.         0.         0.         0.         0.\n",
            " 0.00275535 0.         0.         0.         0.         0.\n",
            " 0.00345775 0.00240557 0.         0.00284634 0.         0.\n",
            " 0.         0.         0.         0.         0.         0.00513523\n",
            " 0.         0.         0.00524151 0.         0.         0.\n",
            " 0.         0.00090594 0.00313999 0.         0.         0.\n",
            " 0.         0.00534893 0.         0.00867835 0.         0.\n",
            " 0.         0.         0.00279023 0.         0.         0.\n",
            " 0.         0.         0.         0.         0.         0.\n",
            " 0.         0.         0.         0.         0.         0.\n",
            " 0.         0.         0.         0.00500206 0.         0.00257198\n",
            " 0.00333312 0.00655357 0.00343349 0.00439867 0.         0.\n",
            " 0.00734869 0.         0.00466142 0.         0.         0.00315174\n",
            " 0.         0.0040769  0.00279612 0.         0.         0.\n",
            " 0.         0.         0.         0.         0.00368515 0.\n",
            " 0.         0.         0.         0.         0.         0.\n",
            " 0.         0.         0.         0.00433613 0.         0.\n",
            " 0.         0.         0.         0.         0.         0.00430379\n",
            " 0.         0.         0.         0.         0.         0.00427266\n",
            " 0.         0.         0.         0.0026066  0.         0.\n",
            " 0.         0.         0.00352364 0.         0.00696629 0.\n",
            " 0.00451018 0.00888524 0.         0.         0.00434192 0.\n",
            " 0.         0.00154214 0.         0.         0.00193094 0.\n",
            " 0.         0.         0.         0.         0.         0.\n",
            " 0.         0.         0.         0.         0.00429203 0.\n",
            " 0.00221536 0.         0.         0.00450428 0.00592036 0.\n",
            " 0.         0.         0.         0.         0.         0.\n",
            " 0.         0.         0.00396137 0.00161959 0.         0.00358952\n",
            " 0.         0.00218611 0.         0.         0.         0.00544437\n",
            " 0.00303469 0.         0.00346015 0.         0.         0.\n",
            " 0.         0.         0.         0.00422132 0.         0.\n",
            " 0.         0.         0.         0.         0.         0.\n",
            " 0.00559848 0.         0.         0.00427932 0.         0.00367761\n",
            " 0.00165186 0.         0.         0.         0.         0.\n",
            " 0.         0.         0.0024056  0.         0.00533    0.\n",
            " 0.         0.         0.         0.         0.         0.\n",
            " 0.         0.0035883  0.00279949 0.         0.         0.\n",
            " 0.         0.00093259 0.00553224 0.         0.         0.\n",
            " 0.         0.         0.0013775  0.         0.         0.0040496\n",
            " 0.00776701 0.         0.00312096 0.00502264 0.00440055 0.\n",
            " 0.         0.         0.         0.         0.         0.\n",
            " 0.         0.00392482 0.00306723 0.         0.         0.\n",
            " 0.         0.         0.         0.         0.         0.\n",
            " 0.         0.00366493 0.         0.         0.00666676 0.\n",
            " 0.         0.         0.         0.         0.         0.\n",
            " 0.         0.00421894 0.         0.00194698 0.         0.\n",
            " 0.         0.00304964 0.         0.0044737  0.         0.\n",
            " 0.         0.         0.00490451 0.00190401 0.         0.\n",
            " 0.         0.         0.00428583 0.         0.         0.\n",
            " 0.         0.         0.00352678 0.00170478 0.00345236 0.00420452\n",
            " 0.00684965 0.         0.         0.         0.00404161 0.\n",
            " 0.00814521 0.         0.00617919 0.         0.         0.\n",
            " 0.         0.0031881  0.         0.00291546 0.         0.\n",
            " 0.         0.00534557 0.00454606 0.         0.         0.00339267\n",
            " 0.         0.         0.         0.         0.         0.00447788\n",
            " 0.00410721 0.00428693 0.         0.0017728  0.         0.\n",
            " 0.         0.0044984  0.00630793 0.         0.         0.\n",
            " 0.         0.         0.         0.         0.         0.\n",
            " 0.         0.         0.         0.         0.         0.\n",
            " 0.         0.         0.00086476 0.         0.         0.0047374\n",
            " 0.         0.01254035 0.00468176 0.01168553 0.         0.\n",
            " 0.00271495 0.00593131 0.00503634 0.         0.         0.\n",
            " 0.         0.         0.         0.00345397 0.         0.00386354\n",
            " 0.         0.         0.         0.         0.         0.0010263\n",
            " 0.         0.00333353 0.0044957  0.         0.         0.\n",
            " 0.         0.         0.         0.         0.         0.0039265\n",
            " 0.         0.         0.         0.         0.         0.00416334\n",
            " 0.         0.         0.         0.         0.00620735 0.00401351\n",
            " 0.         0.         0.         0.         0.00379677 0.\n",
            " 0.         0.         0.         0.00336324 0.         0.\n",
            " 0.         0.00503697 0.00405457 0.00548026 0.         0.\n",
            " 0.         0.00447022 0.         0.01379974 0.00295231 0.\n",
            " 0.         0.         0.00435813 0.         0.         0.\n",
            " 0.00584516 0.         0.         0.         0.         0.\n",
            " 0.         0.         0.00532803 0.         0.0045963  0.00346096\n",
            " 0.         0.00506936 0.         0.         0.         0.\n",
            " 0.         0.         0.         0.         0.         0.\n",
            " 0.00277113 0.00290078 0.         0.00298853 0.         0.\n",
            " 0.         0.         0.         0.         0.         0.\n",
            " 0.         0.         0.         0.         0.         0.\n",
            " 0.         0.         0.         0.         0.         0.00317623\n",
            " 0.         0.         0.         0.00314195 0.         0.\n",
            " 0.         0.00279871 0.         0.         0.00248119 0.\n",
            " 0.         0.         0.         0.         0.         0.\n",
            " 0.         0.         0.00456264 0.         0.         0.00302988\n",
            " 0.         0.         0.00394475 0.         0.         0.\n",
            " 0.         0.         0.         0.         0.         0.\n",
            " 0.         0.         0.         0.         0.         0.\n",
            " 0.         0.         0.         0.0034835  0.         0.\n",
            " 0.00125289 0.         0.         0.00633454 0.         0.\n",
            " 0.         0.         0.0055431  0.         0.         0.\n",
            " 0.00396124 0.00458329 0.         0.         0.         0.\n",
            " 0.         0.         0.00271748 0.         0.0043241  0.\n",
            " 0.         0.         0.00263826 0.         0.         0.\n",
            " 0.         0.00148905 0.         0.         0.00526872 0.\n",
            " 0.         0.         0.         0.         0.         0.00653894\n",
            " 0.         0.         0.01319632 0.         0.         0.\n",
            " 0.         0.00500207 0.00573814 0.         0.         0.\n",
            " 0.         0.         0.         0.         0.         0.00445178\n",
            " 0.00343341 0.         0.         0.         0.00309859 0.00447254\n",
            " 0.         0.00428735 0.         0.         0.         0.00438647\n",
            " 0.         0.0046466  0.         0.         0.         0.\n",
            " 0.00932829 0.         0.         0.         0.00991691 0.\n",
            " 0.00228668 0.         0.         0.         0.         0.\n",
            " 0.         0.         0.00340983 0.00420355 0.         0.\n",
            " 0.         0.         0.         0.         0.         0.\n",
            " 0.         0.         0.         0.         0.         0.\n",
            " 0.00527341 0.         0.         0.         0.         0.\n",
            " 0.         0.         0.00355333 0.         0.         0.\n",
            " 0.         0.01023512 0.         0.00348746 0.         0.\n",
            " 0.         0.         0.         0.         0.         0.00500313\n",
            " 0.         0.         0.         0.00514522 0.00462552 0.\n",
            " 0.         0.         0.         0.         0.         0.\n",
            " 0.         0.         0.         0.         0.         0.\n",
            " 0.         0.         0.         0.         0.         0.\n",
            " 0.         0.00412419 0.         0.         0.         0.0028233\n",
            " 0.00740725 0.         0.         0.         0.         0.\n",
            " 0.         0.00393851 0.         0.         0.         0.\n",
            " 0.         0.         0.         0.         0.         0.\n",
            " 0.         0.         0.         0.00267427 0.00201    0.\n",
            " 0.         0.         0.         0.00377678 0.00271468 0.\n",
            " 0.00277801 0.         0.         0.00221268 0.         0.\n",
            " 0.         0.         0.         0.         0.00310531 0.\n",
            " 0.         0.         0.00375584 0.         0.         0.\n",
            " 0.00513038 0.         0.00459606 0.         0.         0.00294059\n",
            " 0.         0.00296007 0.         0.         0.0098261  0.\n",
            " 0.         0.02127139 0.         0.         0.00790148 0.\n",
            " 0.         0.00227102 0.         0.         0.05385073 0.00871687\n",
            " 0.         0.         0.00514211 0.         0.         0.\n",
            " 0.         0.         0.         0.         0.         0.\n",
            " 0.         0.         0.         0.00674287 0.         0.00118361\n",
            " 0.         0.         0.        ]\n"
          ]
        }
      ]
    },
    {
      "cell_type": "code",
      "source": [
        "# plot\n",
        "\n",
        "feature_importance = model.feature_importances_\n",
        "sorted_idx = np.argsort(feature_importance)\n",
        "\n",
        "cols=np.array(X.columns)[sorted_idx]\n",
        "df_features=pd.DataFrame()\n",
        "\n",
        "df_features['sorted_idx']=sorted_idx\n",
        "df_features['cols']=cols\n",
        "df_features['score']=feature_importance[sorted_idx]"
      ],
      "metadata": {
        "id": "pnD3tUCH-rG-"
      },
      "execution_count": null,
      "outputs": []
    },
    {
      "cell_type": "code",
      "source": [
        "df_features.to_csv('feature_importance.csv')"
      ],
      "metadata": {
        "id": "ta97prZBWvDU"
      },
      "execution_count": null,
      "outputs": []
    },
    {
      "cell_type": "markdown",
      "source": [
        "**SHAP Explainer**"
      ],
      "metadata": {
        "id": "e5yzofznXmQB"
      }
    },
    {
      "cell_type": "code",
      "source": [
        "!pip install shap"
      ],
      "metadata": {
        "colab": {
          "base_uri": "https://localhost:8080/"
        },
        "collapsed": true,
        "id": "GmqjThfUX8u9",
        "outputId": "fbf8cbf1-1397-4500-8c1d-78e74e9bb5a7"
      },
      "execution_count": null,
      "outputs": [
        {
          "output_type": "stream",
          "name": "stdout",
          "text": [
            "Looking in indexes: https://pypi.org/simple, https://us-python.pkg.dev/colab-wheels/public/simple/\n",
            "Requirement already satisfied: shap in /usr/local/lib/python3.7/dist-packages (0.41.0)\n",
            "Requirement already satisfied: cloudpickle in /usr/local/lib/python3.7/dist-packages (from shap) (1.5.0)\n",
            "Requirement already satisfied: scipy in /usr/local/lib/python3.7/dist-packages (from shap) (1.7.3)\n",
            "Requirement already satisfied: pandas in /usr/local/lib/python3.7/dist-packages (from shap) (1.3.5)\n",
            "Requirement already satisfied: tqdm>4.25.0 in /usr/local/lib/python3.7/dist-packages (from shap) (4.64.1)\n",
            "Requirement already satisfied: slicer==0.0.7 in /usr/local/lib/python3.7/dist-packages (from shap) (0.0.7)\n",
            "Requirement already satisfied: numba in /usr/local/lib/python3.7/dist-packages (from shap) (0.56.2)\n",
            "Requirement already satisfied: numpy in /usr/local/lib/python3.7/dist-packages (from shap) (1.21.6)\n",
            "Requirement already satisfied: packaging>20.9 in /usr/local/lib/python3.7/dist-packages (from shap) (21.3)\n",
            "Requirement already satisfied: scikit-learn in /usr/local/lib/python3.7/dist-packages (from shap) (1.0.2)\n",
            "Requirement already satisfied: pyparsing!=3.0.5,>=2.0.2 in /usr/local/lib/python3.7/dist-packages (from packaging>20.9->shap) (3.0.9)\n",
            "Requirement already satisfied: setuptools<60 in /usr/local/lib/python3.7/dist-packages (from numba->shap) (57.4.0)\n",
            "Requirement already satisfied: llvmlite<0.40,>=0.39.0dev0 in /usr/local/lib/python3.7/dist-packages (from numba->shap) (0.39.1)\n",
            "Requirement already satisfied: importlib-metadata in /usr/local/lib/python3.7/dist-packages (from numba->shap) (5.0.0)\n",
            "Requirement already satisfied: typing-extensions>=3.6.4 in /usr/local/lib/python3.7/dist-packages (from importlib-metadata->numba->shap) (4.1.1)\n",
            "Requirement already satisfied: zipp>=0.5 in /usr/local/lib/python3.7/dist-packages (from importlib-metadata->numba->shap) (3.9.0)\n",
            "Requirement already satisfied: pytz>=2017.3 in /usr/local/lib/python3.7/dist-packages (from pandas->shap) (2022.4)\n",
            "Requirement already satisfied: python-dateutil>=2.7.3 in /usr/local/lib/python3.7/dist-packages (from pandas->shap) (2.8.2)\n",
            "Requirement already satisfied: six>=1.5 in /usr/local/lib/python3.7/dist-packages (from python-dateutil>=2.7.3->pandas->shap) (1.15.0)\n",
            "Requirement already satisfied: joblib>=0.11 in /usr/local/lib/python3.7/dist-packages (from scikit-learn->shap) (1.2.0)\n",
            "Requirement already satisfied: threadpoolctl>=2.0.0 in /usr/local/lib/python3.7/dist-packages (from scikit-learn->shap) (3.1.0)\n"
          ]
        }
      ]
    },
    {
      "cell_type": "code",
      "source": [
        "import shap\n",
        "\n",
        "explainer = shap.Explainer(model)\n",
        "shap_values = explainer(np.ascontiguousarray(X))\n",
        "shap_importance = shap_values.abs.mean(0).values\n",
        "sorted_idx = shap_importance.argsort()\n",
        "# fig = plt.figure(figsize=(12, 6))\n",
        "# plt.barh(range(len(sorted_idx)), shap_importance[sorted_idx], align='center')\n",
        "# plt.yticks(range(len(sorted_idx)), np.array(X.columns)[sorted_idx])\n",
        "# plt.title('SHAP Importance')\n",
        "\n",
        "cols=np.array(X.columns)[sorted_idx]\n",
        "df_shap=pd.DataFrame()\n",
        "df_shap['sorted_idx']=sorted_idx\n",
        "df_shap['col']=cols\n",
        "df_shap['shap_importance']=shap_importance"
      ],
      "metadata": {
        "id": "wNiKvOVTXpFK"
      },
      "execution_count": null,
      "outputs": []
    },
    {
      "cell_type": "code",
      "source": [
        "df_shap.to_csv('df_shap_values.csv')"
      ],
      "metadata": {
        "id": "Ma61QLONYwf7"
      },
      "execution_count": null,
      "outputs": []
    },
    {
      "cell_type": "markdown",
      "source": [
        "Use the XG Boost Feature importance values and SHAP values to relate and finalize the list of variables"
      ],
      "metadata": {
        "id": "iorG1LBkrCnp"
      }
    },
    {
      "cell_type": "markdown",
      "source": [
        "### Feature Exploration based on variable importance"
      ],
      "metadata": {
        "id": "cLJUUT4r7ju7"
      }
    },
    {
      "cell_type": "markdown",
      "source": [
        "**Demographic Variables**"
      ],
      "metadata": {
        "id": "4lREQRhdBYaa"
      }
    },
    {
      "cell_type": "code",
      "source": [
        "demo_var=['cons_mobplus', 'cms_ra_factor_type_cd', 'cons_homstat', 'cms_orig_reas_entitle_cd', 'sex_cd', 'lang_spoken_cd', 'rucc_category', 'cms_race_cd','hi_flag']\n",
        "#demo_var"
      ],
      "metadata": {
        "id": "PnIKTxxGBb8V"
      },
      "execution_count": null,
      "outputs": []
    },
    {
      "cell_type": "code",
      "source": [
        "ind=[]\n",
        "ind.append(0)  #creating id column\n",
        "col=list(df.columns)\n",
        "for i in demo_var:\n",
        "  ind.append(col.index(i))\n",
        "ind"
      ],
      "metadata": {
        "colab": {
          "base_uri": "https://localhost:8080/"
        },
        "id": "3iL69tXiDkk3",
        "outputId": "c1b652cb-666f-417d-aa36-8074ccc93abc"
      },
      "execution_count": null,
      "outputs": [
        {
          "output_type": "execute_result",
          "data": {
            "text/plain": [
              "[0, 236, 332, 362, 380, 548, 554, 639, 722, 838]"
            ]
          },
          "metadata": {},
          "execution_count": 65
        }
      ]
    },
    {
      "cell_type": "code",
      "source": [
        "df_demo_var=df.iloc[:,ind]\n",
        "df_demo_var.head()"
      ],
      "metadata": {
        "colab": {
          "base_uri": "https://localhost:8080/",
          "height": 270
        },
        "id": "vaazB7oZFhKh",
        "outputId": "27d15449-81a8-463c-b62c-7a2621aecc8a"
      },
      "execution_count": null,
      "outputs": [
        {
          "output_type": "execute_result",
          "data": {
            "text/plain": [
              "            id cons_mobplus cms_ra_factor_type_cd cons_homstat  \\\n",
              "0  100039218.0            M                    CN            R   \n",
              "1  100042427.0            M                    CN            Y   \n",
              "2  100055103.0            S                    CN            U   \n",
              "3  100074556.0            U                    CF            U   \n",
              "4  100079932.0            U                    CP            U   \n",
              "\n",
              "   cms_orig_reas_entitle_cd sex_cd lang_spoken_cd rucc_category cms_race_cd  \\\n",
              "0                       0.0      M            ENG       3-Metro           1   \n",
              "1                       0.0      F            ENG       1-Metro           6   \n",
              "2                       0.0      F            OTH       2-Metro           1   \n",
              "3                       0.0      F            OTH       2-Metro           2   \n",
              "4                       1.0      M            OTH    5-Nonmetro           1   \n",
              "\n",
              "   hi_flag  \n",
              "0        0  \n",
              "1        0  \n",
              "2        0  \n",
              "3        0  \n",
              "4        0  "
            ],
            "text/html": [
              "\n",
              "  <div id=\"df-dcdbb2e6-d19e-4056-abe2-2d0a9789c7e7\">\n",
              "    <div class=\"colab-df-container\">\n",
              "      <div>\n",
              "<style scoped>\n",
              "    .dataframe tbody tr th:only-of-type {\n",
              "        vertical-align: middle;\n",
              "    }\n",
              "\n",
              "    .dataframe tbody tr th {\n",
              "        vertical-align: top;\n",
              "    }\n",
              "\n",
              "    .dataframe thead th {\n",
              "        text-align: right;\n",
              "    }\n",
              "</style>\n",
              "<table border=\"1\" class=\"dataframe\">\n",
              "  <thead>\n",
              "    <tr style=\"text-align: right;\">\n",
              "      <th></th>\n",
              "      <th>id</th>\n",
              "      <th>cons_mobplus</th>\n",
              "      <th>cms_ra_factor_type_cd</th>\n",
              "      <th>cons_homstat</th>\n",
              "      <th>cms_orig_reas_entitle_cd</th>\n",
              "      <th>sex_cd</th>\n",
              "      <th>lang_spoken_cd</th>\n",
              "      <th>rucc_category</th>\n",
              "      <th>cms_race_cd</th>\n",
              "      <th>hi_flag</th>\n",
              "    </tr>\n",
              "  </thead>\n",
              "  <tbody>\n",
              "    <tr>\n",
              "      <th>0</th>\n",
              "      <td>100039218.0</td>\n",
              "      <td>M</td>\n",
              "      <td>CN</td>\n",
              "      <td>R</td>\n",
              "      <td>0.0</td>\n",
              "      <td>M</td>\n",
              "      <td>ENG</td>\n",
              "      <td>3-Metro</td>\n",
              "      <td>1</td>\n",
              "      <td>0</td>\n",
              "    </tr>\n",
              "    <tr>\n",
              "      <th>1</th>\n",
              "      <td>100042427.0</td>\n",
              "      <td>M</td>\n",
              "      <td>CN</td>\n",
              "      <td>Y</td>\n",
              "      <td>0.0</td>\n",
              "      <td>F</td>\n",
              "      <td>ENG</td>\n",
              "      <td>1-Metro</td>\n",
              "      <td>6</td>\n",
              "      <td>0</td>\n",
              "    </tr>\n",
              "    <tr>\n",
              "      <th>2</th>\n",
              "      <td>100055103.0</td>\n",
              "      <td>S</td>\n",
              "      <td>CN</td>\n",
              "      <td>U</td>\n",
              "      <td>0.0</td>\n",
              "      <td>F</td>\n",
              "      <td>OTH</td>\n",
              "      <td>2-Metro</td>\n",
              "      <td>1</td>\n",
              "      <td>0</td>\n",
              "    </tr>\n",
              "    <tr>\n",
              "      <th>3</th>\n",
              "      <td>100074556.0</td>\n",
              "      <td>U</td>\n",
              "      <td>CF</td>\n",
              "      <td>U</td>\n",
              "      <td>0.0</td>\n",
              "      <td>F</td>\n",
              "      <td>OTH</td>\n",
              "      <td>2-Metro</td>\n",
              "      <td>2</td>\n",
              "      <td>0</td>\n",
              "    </tr>\n",
              "    <tr>\n",
              "      <th>4</th>\n",
              "      <td>100079932.0</td>\n",
              "      <td>U</td>\n",
              "      <td>CP</td>\n",
              "      <td>U</td>\n",
              "      <td>1.0</td>\n",
              "      <td>M</td>\n",
              "      <td>OTH</td>\n",
              "      <td>5-Nonmetro</td>\n",
              "      <td>1</td>\n",
              "      <td>0</td>\n",
              "    </tr>\n",
              "  </tbody>\n",
              "</table>\n",
              "</div>\n",
              "      <button class=\"colab-df-convert\" onclick=\"convertToInteractive('df-dcdbb2e6-d19e-4056-abe2-2d0a9789c7e7')\"\n",
              "              title=\"Convert this dataframe to an interactive table.\"\n",
              "              style=\"display:none;\">\n",
              "        \n",
              "  <svg xmlns=\"http://www.w3.org/2000/svg\" height=\"24px\"viewBox=\"0 0 24 24\"\n",
              "       width=\"24px\">\n",
              "    <path d=\"M0 0h24v24H0V0z\" fill=\"none\"/>\n",
              "    <path d=\"M18.56 5.44l.94 2.06.94-2.06 2.06-.94-2.06-.94-.94-2.06-.94 2.06-2.06.94zm-11 1L8.5 8.5l.94-2.06 2.06-.94-2.06-.94L8.5 2.5l-.94 2.06-2.06.94zm10 10l.94 2.06.94-2.06 2.06-.94-2.06-.94-.94-2.06-.94 2.06-2.06.94z\"/><path d=\"M17.41 7.96l-1.37-1.37c-.4-.4-.92-.59-1.43-.59-.52 0-1.04.2-1.43.59L10.3 9.45l-7.72 7.72c-.78.78-.78 2.05 0 2.83L4 21.41c.39.39.9.59 1.41.59.51 0 1.02-.2 1.41-.59l7.78-7.78 2.81-2.81c.8-.78.8-2.07 0-2.86zM5.41 20L4 18.59l7.72-7.72 1.47 1.35L5.41 20z\"/>\n",
              "  </svg>\n",
              "      </button>\n",
              "      \n",
              "  <style>\n",
              "    .colab-df-container {\n",
              "      display:flex;\n",
              "      flex-wrap:wrap;\n",
              "      gap: 12px;\n",
              "    }\n",
              "\n",
              "    .colab-df-convert {\n",
              "      background-color: #E8F0FE;\n",
              "      border: none;\n",
              "      border-radius: 50%;\n",
              "      cursor: pointer;\n",
              "      display: none;\n",
              "      fill: #1967D2;\n",
              "      height: 32px;\n",
              "      padding: 0 0 0 0;\n",
              "      width: 32px;\n",
              "    }\n",
              "\n",
              "    .colab-df-convert:hover {\n",
              "      background-color: #E2EBFA;\n",
              "      box-shadow: 0px 1px 2px rgba(60, 64, 67, 0.3), 0px 1px 3px 1px rgba(60, 64, 67, 0.15);\n",
              "      fill: #174EA6;\n",
              "    }\n",
              "\n",
              "    [theme=dark] .colab-df-convert {\n",
              "      background-color: #3B4455;\n",
              "      fill: #D2E3FC;\n",
              "    }\n",
              "\n",
              "    [theme=dark] .colab-df-convert:hover {\n",
              "      background-color: #434B5C;\n",
              "      box-shadow: 0px 1px 3px 1px rgba(0, 0, 0, 0.15);\n",
              "      filter: drop-shadow(0px 1px 2px rgba(0, 0, 0, 0.3));\n",
              "      fill: #FFFFFF;\n",
              "    }\n",
              "  </style>\n",
              "\n",
              "      <script>\n",
              "        const buttonEl =\n",
              "          document.querySelector('#df-dcdbb2e6-d19e-4056-abe2-2d0a9789c7e7 button.colab-df-convert');\n",
              "        buttonEl.style.display =\n",
              "          google.colab.kernel.accessAllowed ? 'block' : 'none';\n",
              "\n",
              "        async function convertToInteractive(key) {\n",
              "          const element = document.querySelector('#df-dcdbb2e6-d19e-4056-abe2-2d0a9789c7e7');\n",
              "          const dataTable =\n",
              "            await google.colab.kernel.invokeFunction('convertToInteractive',\n",
              "                                                     [key], {});\n",
              "          if (!dataTable) return;\n",
              "\n",
              "          const docLinkHtml = 'Like what you see? Visit the ' +\n",
              "            '<a target=\"_blank\" href=https://colab.research.google.com/notebooks/data_table.ipynb>data table notebook</a>'\n",
              "            + ' to learn more about interactive tables.';\n",
              "          element.innerHTML = '';\n",
              "          dataTable['output_type'] = 'display_data';\n",
              "          await google.colab.output.renderOutput(dataTable, element);\n",
              "          const docLink = document.createElement('div');\n",
              "          docLink.innerHTML = docLinkHtml;\n",
              "          element.appendChild(docLink);\n",
              "        }\n",
              "      </script>\n",
              "    </div>\n",
              "  </div>\n",
              "  "
            ]
          },
          "metadata": {},
          "execution_count": 66
        }
      ]
    },
    {
      "cell_type": "code",
      "source": [
        "fig=plt.figure(figsize=[16,12])\n",
        "\n",
        "hyp=df_demo_var[df_demo_var['hi_flag']==1].groupby(['sex_cd'],as_index=False).count()\n",
        "x=hyp['sex_cd']\n",
        "y=hyp['hi_flag']\n",
        "x_pos = [i for i, _ in enumerate(x)]\n",
        "plt.figure(figsize=(5,5))\n",
        "plt.bar(x_pos, y, color='green')\n",
        "plt.xlabel(\"Sex of Individual\")\n",
        "plt.ylabel(\"Hi Flag\")\n",
        "plt.title(\"Sex vs HI Flag\")\n",
        "\n",
        "plt.xticks(x_pos, x)\n",
        "plt.show()"
      ],
      "metadata": {
        "id": "k1Fkk6PnI1Vb",
        "colab": {
          "base_uri": "https://localhost:8080/",
          "height": 367
        },
        "outputId": "5aa068f4-47b1-43c6-dae6-33032f9426ed"
      },
      "execution_count": null,
      "outputs": [
        {
          "output_type": "display_data",
          "data": {
            "text/plain": [
              "<Figure size 1152x864 with 0 Axes>"
            ]
          },
          "metadata": {}
        },
        {
          "output_type": "display_data",
          "data": {
            "text/plain": [
              "<Figure size 360x360 with 1 Axes>"
            ],
            "image/png": "[encoded data removed]"
          },
          "metadata": {
            "needs_background": "light"
          }
        }
      ]
    },
    {
      "cell_type": "code",
      "source": [
        "df_demo_var.head()"
      ],
      "metadata": {
        "colab": {
          "base_uri": "https://localhost:8080/",
          "height": 270
        },
        "id": "YN4-fPi6ORfR",
        "outputId": "345b8046-555c-4134-8c15-c1a9891a2fc8"
      },
      "execution_count": null,
      "outputs": [
        {
          "output_type": "execute_result",
          "data": {
            "text/plain": [
              "            id cons_mobplus cms_ra_factor_type_cd cons_homstat  \\\n",
              "0  100039218.0            M                    CN            R   \n",
              "1  100042427.0            M                    CN            Y   \n",
              "2  100055103.0            S                    CN            U   \n",
              "3  100074556.0            U                    CF            U   \n",
              "4  100079932.0            U                    CP            U   \n",
              "\n",
              "   cms_orig_reas_entitle_cd sex_cd lang_spoken_cd rucc_category cms_race_cd  \\\n",
              "0                       0.0      M            ENG       3-Metro           1   \n",
              "1                       0.0      F            ENG       1-Metro           6   \n",
              "2                       0.0      F            OTH       2-Metro           1   \n",
              "3                       0.0      F            OTH       2-Metro           2   \n",
              "4                       1.0      M            OTH    5-Nonmetro           1   \n",
              "\n",
              "   hi_flag  \n",
              "0        0  \n",
              "1        0  \n",
              "2        0  \n",
              "3        0  \n",
              "4        0  "
            ],
            "text/html": [
              "\n",
              "  <div id=\"df-21f72734-15b8-4ee4-824f-42eb283f4e68\">\n",
              "    <div class=\"colab-df-container\">\n",
              "      <div>\n",
              "<style scoped>\n",
              "    .dataframe tbody tr th:only-of-type {\n",
              "        vertical-align: middle;\n",
              "    }\n",
              "\n",
              "    .dataframe tbody tr th {\n",
              "        vertical-align: top;\n",
              "    }\n",
              "\n",
              "    .dataframe thead th {\n",
              "        text-align: right;\n",
              "    }\n",
              "</style>\n",
              "<table border=\"1\" class=\"dataframe\">\n",
              "  <thead>\n",
              "    <tr style=\"text-align: right;\">\n",
              "      <th></th>\n",
              "      <th>id</th>\n",
              "      <th>cons_mobplus</th>\n",
              "      <th>cms_ra_factor_type_cd</th>\n",
              "      <th>cons_homstat</th>\n",
              "      <th>cms_orig_reas_entitle_cd</th>\n",
              "      <th>sex_cd</th>\n",
              "      <th>lang_spoken_cd</th>\n",
              "      <th>rucc_category</th>\n",
              "      <th>cms_race_cd</th>\n",
              "      <th>hi_flag</th>\n",
              "    </tr>\n",
              "  </thead>\n",
              "  <tbody>\n",
              "    <tr>\n",
              "      <th>0</th>\n",
              "      <td>100039218.0</td>\n",
              "      <td>M</td>\n",
              "      <td>CN</td>\n",
              "      <td>R</td>\n",
              "      <td>0.0</td>\n",
              "      <td>M</td>\n",
              "      <td>ENG</td>\n",
              "      <td>3-Metro</td>\n",
              "      <td>1</td>\n",
              "      <td>0</td>\n",
              "    </tr>\n",
              "    <tr>\n",
              "      <th>1</th>\n",
              "      <td>100042427.0</td>\n",
              "      <td>M</td>\n",
              "      <td>CN</td>\n",
              "      <td>Y</td>\n",
              "      <td>0.0</td>\n",
              "      <td>F</td>\n",
              "      <td>ENG</td>\n",
              "      <td>1-Metro</td>\n",
              "      <td>6</td>\n",
              "      <td>0</td>\n",
              "    </tr>\n",
              "    <tr>\n",
              "      <th>2</th>\n",
              "      <td>100055103.0</td>\n",
              "      <td>S</td>\n",
              "      <td>CN</td>\n",
              "      <td>U</td>\n",
              "      <td>0.0</td>\n",
              "      <td>F</td>\n",
              "      <td>OTH</td>\n",
              "      <td>2-Metro</td>\n",
              "      <td>1</td>\n",
              "      <td>0</td>\n",
              "    </tr>\n",
              "    <tr>\n",
              "      <th>3</th>\n",
              "      <td>100074556.0</td>\n",
              "      <td>U</td>\n",
              "      <td>CF</td>\n",
              "      <td>U</td>\n",
              "      <td>0.0</td>\n",
              "      <td>F</td>\n",
              "      <td>OTH</td>\n",
              "      <td>2-Metro</td>\n",
              "      <td>2</td>\n",
              "      <td>0</td>\n",
              "    </tr>\n",
              "    <tr>\n",
              "      <th>4</th>\n",
              "      <td>100079932.0</td>\n",
              "      <td>U</td>\n",
              "      <td>CP</td>\n",
              "      <td>U</td>\n",
              "      <td>1.0</td>\n",
              "      <td>M</td>\n",
              "      <td>OTH</td>\n",
              "      <td>5-Nonmetro</td>\n",
              "      <td>1</td>\n",
              "      <td>0</td>\n",
              "    </tr>\n",
              "  </tbody>\n",
              "</table>\n",
              "</div>\n",
              "      <button class=\"colab-df-convert\" onclick=\"convertToInteractive('df-21f72734-15b8-4ee4-824f-42eb283f4e68')\"\n",
              "              title=\"Convert this dataframe to an interactive table.\"\n",
              "              style=\"display:none;\">\n",
              "        \n",
              "  <svg xmlns=\"http://www.w3.org/2000/svg\" height=\"24px\"viewBox=\"0 0 24 24\"\n",
              "       width=\"24px\">\n",
              "    <path d=\"M0 0h24v24H0V0z\" fill=\"none\"/>\n",
              "    <path d=\"M18.56 5.44l.94 2.06.94-2.06 2.06-.94-2.06-.94-.94-2.06-.94 2.06-2.06.94zm-11 1L8.5 8.5l.94-2.06 2.06-.94-2.06-.94L8.5 2.5l-.94 2.06-2.06.94zm10 10l.94 2.06.94-2.06 2.06-.94-2.06-.94-.94-2.06-.94 2.06-2.06.94z\"/><path d=\"M17.41 7.96l-1.37-1.37c-.4-.4-.92-.59-1.43-.59-.52 0-1.04.2-1.43.59L10.3 9.45l-7.72 7.72c-.78.78-.78 2.05 0 2.83L4 21.41c.39.39.9.59 1.41.59.51 0 1.02-.2 1.41-.59l7.78-7.78 2.81-2.81c.8-.78.8-2.07 0-2.86zM5.41 20L4 18.59l7.72-7.72 1.47 1.35L5.41 20z\"/>\n",
              "  </svg>\n",
              "      </button>\n",
              "      \n",
              "  <style>\n",
              "    .colab-df-container {\n",
              "      display:flex;\n",
              "      flex-wrap:wrap;\n",
              "      gap: 12px;\n",
              "    }\n",
              "\n",
              "    .colab-df-convert {\n",
              "      background-color: #E8F0FE;\n",
              "      border: none;\n",
              "      border-radius: 50%;\n",
              "      cursor: pointer;\n",
              "      display: none;\n",
              "      fill: #1967D2;\n",
              "      height: 32px;\n",
              "      padding: 0 0 0 0;\n",
              "      width: 32px;\n",
              "    }\n",
              "\n",
              "    .colab-df-convert:hover {\n",
              "      background-color: #E2EBFA;\n",
              "      box-shadow: 0px 1px 2px rgba(60, 64, 67, 0.3), 0px 1px 3px 1px rgba(60, 64, 67, 0.15);\n",
              "      fill: #174EA6;\n",
              "    }\n",
              "\n",
              "    [theme=dark] .colab-df-convert {\n",
              "      background-color: #3B4455;\n",
              "      fill: #D2E3FC;\n",
              "    }\n",
              "\n",
              "    [theme=dark] .colab-df-convert:hover {\n",
              "      background-color: #434B5C;\n",
              "      box-shadow: 0px 1px 3px 1px rgba(0, 0, 0, 0.15);\n",
              "      filter: drop-shadow(0px 1px 2px rgba(0, 0, 0, 0.3));\n",
              "      fill: #FFFFFF;\n",
              "    }\n",
              "  </style>\n",
              "\n",
              "      <script>\n",
              "        const buttonEl =\n",
              "          document.querySelector('#df-21f72734-15b8-4ee4-824f-42eb283f4e68 button.colab-df-convert');\n",
              "        buttonEl.style.display =\n",
              "          google.colab.kernel.accessAllowed ? 'block' : 'none';\n",
              "\n",
              "        async function convertToInteractive(key) {\n",
              "          const element = document.querySelector('#df-21f72734-15b8-4ee4-824f-42eb283f4e68');\n",
              "          const dataTable =\n",
              "            await google.colab.kernel.invokeFunction('convertToInteractive',\n",
              "                                                     [key], {});\n",
              "          if (!dataTable) return;\n",
              "\n",
              "          const docLinkHtml = 'Like what you see? Visit the ' +\n",
              "            '<a target=\"_blank\" href=https://colab.research.google.com/notebooks/data_table.ipynb>data table notebook</a>'\n",
              "            + ' to learn more about interactive tables.';\n",
              "          element.innerHTML = '';\n",
              "          dataTable['output_type'] = 'display_data';\n",
              "          await google.colab.output.renderOutput(dataTable, element);\n",
              "          const docLink = document.createElement('div');\n",
              "          docLink.innerHTML = docLinkHtml;\n",
              "          element.appendChild(docLink);\n",
              "        }\n",
              "      </script>\n",
              "    </div>\n",
              "  </div>\n",
              "  "
            ]
          },
          "metadata": {},
          "execution_count": 68
        }
      ]
    },
    {
      "cell_type": "code",
      "source": [
        "df_demo_var['rucc_category'].unique()"
      ],
      "metadata": {
        "colab": {
          "base_uri": "https://localhost:8080/"
        },
        "id": "wWNi7rq8P81w",
        "outputId": "2020a1d0-553f-492e-e6ae-8554d72fa301"
      },
      "execution_count": null,
      "outputs": [
        {
          "output_type": "execute_result",
          "data": {
            "text/plain": [
              "array(['3-Metro', '1-Metro', '2-Metro', '5-Nonmetro', '4-Nonmetro',\n",
              "       '6-Nonmetro', '7-Nonmetro', '8-Nonmetro', '9-Nonmetro'],\n",
              "      dtype=object)"
            ]
          },
          "metadata": {},
          "execution_count": 69
        }
      ]
    },
    {
      "cell_type": "code",
      "source": [
        "fig=plt.figure(figsize=[24,16])\n",
        "fig.suptitle('Demographics vs Insecurity',fontsize=18,fontweight='bold')\n",
        "fig.subplots_adjust(top=0.92)\n",
        "fig.subplots_adjust(hspace=0.5,wspace=0.4)\n",
        "# demo_var.remove('hi_flag')\n",
        "df_demo_var.columns\n",
        "for i in range(len(demo_var)-1):\n",
        "  hi=df_demo_var[df_demo_var['hi_flag']==1]\n",
        "  hyp=hi.groupby([demo_var[i]],as_index=False).count()\n",
        "  x=hyp[demo_var[i]]\n",
        "  y=hyp['hi_flag']\n",
        "  ax1=fig.add_subplot(3,3,i+1)\n",
        "  ax1=sns.barplot(data=hyp, x=demo_var[i], y=\"hi_flag\")\n",
        "  ax1.set_title(f'{demo_var[i]}')\n",
        "  ax1.set_xlabel(f'{demo_var[i]}')\n",
        "  #locs, labels = plt.xticks()\n",
        "  #plt.setp(labels, rotation=45)\n",
        "  if(len(df_demo_var[demo_var[i]].unique())>3):\n",
        "    plt.setp(ax1.get_xticklabels(), rotation=45)\n",
        "  #ax1.set_xticklabels(rotation=30) "
      ],
      "metadata": {
        "colab": {
          "base_uri": "https://localhost:8080/",
          "height": 867
        },
        "id": "XjKUX4qjMSMV",
        "outputId": "a9d1daeb-1442-422f-b6d9-deb68815f378"
      },
      "execution_count": null,
      "outputs": [
        {
          "output_type": "display_data",
          "data": {
            "text/plain": [
              "<Figure size 1728x1152 with 8 Axes>"
            ],
            "image/png": "[encoded data removed]"
          },
          "metadata": {
            "needs_background": "light"
          }
        }
      ]
    },
    {
      "cell_type": "markdown",
      "source": [
        "### **Final List of Variables**\n",
        "\n",
        "Based on SHAP and XG Boost Variable importance values"
      ],
      "metadata": {
        "id": "l49isZ_xo--B"
      }
    },
    {
      "cell_type": "code",
      "source": [
        "variables_df=pd.read_csv('/content/drive/MyDrive/TAMU Competition/important_features.csv')"
      ],
      "metadata": {
        "id": "x8Nwe6x0pCw_"
      },
      "execution_count": null,
      "outputs": []
    },
    {
      "cell_type": "code",
      "source": [
        "variables_df.head()"
      ],
      "metadata": {
        "colab": {
          "base_uri": "https://localhost:8080/",
          "height": 206
        },
        "id": "KkvXGtBapKPW",
        "outputId": "d69b7141-4235-49d0-eced-1fdf493dfe34"
      },
      "execution_count": null,
      "outputs": [
        {
          "output_type": "execute_result",
          "data": {
            "text/plain": [
              "                      Column name  SHAP XG booster Feature Importance  \\\n",
              "0                  cons_homstat_Y   0.0                      0.05385    \n",
              "1                cms_disabled_ind   0.0                      0.02342    \n",
              "2        cms_ra_factor_type_cd_CN   0.0                      0.02127    \n",
              "3  total_outpatient_visit_ct_pmpm   0.0                      0.01750    \n",
              "4              cms_low_income_ind   0.0                      0.01380    \n",
              "\n",
              "                                 Feature Description  \n",
              "0                                                NaN  \n",
              "1  Binary indicator that a Medicare Supplement me...  \n",
              "2                                                NaN  \n",
              "3  visits per month for overall claims related to...  \n",
              "4  Binary indicator that a member is receiving a ...  "
            ],
            "text/html": [
              "\n",
              "  <div id=\"df-317a50dc-935c-403c-b9ad-a5aa44f11be2\">\n",
              "    <div class=\"colab-df-container\">\n",
              "      <div>\n",
              "<style scoped>\n",
              "    .dataframe tbody tr th:only-of-type {\n",
              "        vertical-align: middle;\n",
              "    }\n",
              "\n",
              "    .dataframe tbody tr th {\n",
              "        vertical-align: top;\n",
              "    }\n",
              "\n",
              "    .dataframe thead th {\n",
              "        text-align: right;\n",
              "    }\n",
              "</style>\n",
              "<table border=\"1\" class=\"dataframe\">\n",
              "  <thead>\n",
              "    <tr style=\"text-align: right;\">\n",
              "      <th></th>\n",
              "      <th>Column name</th>\n",
              "      <th>SHAP</th>\n",
              "      <th>XG booster Feature Importance</th>\n",
              "      <th>Feature Description</th>\n",
              "    </tr>\n",
              "  </thead>\n",
              "  <tbody>\n",
              "    <tr>\n",
              "      <th>0</th>\n",
              "      <td>cons_homstat_Y</td>\n",
              "      <td>0.0</td>\n",
              "      <td>0.05385</td>\n",
              "      <td>NaN</td>\n",
              "    </tr>\n",
              "    <tr>\n",
              "      <th>1</th>\n",
              "      <td>cms_disabled_ind</td>\n",
              "      <td>0.0</td>\n",
              "      <td>0.02342</td>\n",
              "      <td>Binary indicator that a Medicare Supplement me...</td>\n",
              "    </tr>\n",
              "    <tr>\n",
              "      <th>2</th>\n",
              "      <td>cms_ra_factor_type_cd_CN</td>\n",
              "      <td>0.0</td>\n",
              "      <td>0.02127</td>\n",
              "      <td>NaN</td>\n",
              "    </tr>\n",
              "    <tr>\n",
              "      <th>3</th>\n",
              "      <td>total_outpatient_visit_ct_pmpm</td>\n",
              "      <td>0.0</td>\n",
              "      <td>0.01750</td>\n",
              "      <td>visits per month for overall claims related to...</td>\n",
              "    </tr>\n",
              "    <tr>\n",
              "      <th>4</th>\n",
              "      <td>cms_low_income_ind</td>\n",
              "      <td>0.0</td>\n",
              "      <td>0.01380</td>\n",
              "      <td>Binary indicator that a member is receiving a ...</td>\n",
              "    </tr>\n",
              "  </tbody>\n",
              "</table>\n",
              "</div>\n",
              "      <button class=\"colab-df-convert\" onclick=\"convertToInteractive('df-317a50dc-935c-403c-b9ad-a5aa44f11be2')\"\n",
              "              title=\"Convert this dataframe to an interactive table.\"\n",
              "              style=\"display:none;\">\n",
              "        \n",
              "  <svg xmlns=\"http://www.w3.org/2000/svg\" height=\"24px\"viewBox=\"0 0 24 24\"\n",
              "       width=\"24px\">\n",
              "    <path d=\"M0 0h24v24H0V0z\" fill=\"none\"/>\n",
              "    <path d=\"M18.56 5.44l.94 2.06.94-2.06 2.06-.94-2.06-.94-.94-2.06-.94 2.06-2.06.94zm-11 1L8.5 8.5l.94-2.06 2.06-.94-2.06-.94L8.5 2.5l-.94 2.06-2.06.94zm10 10l.94 2.06.94-2.06 2.06-.94-2.06-.94-.94-2.06-.94 2.06-2.06.94z\"/><path d=\"M17.41 7.96l-1.37-1.37c-.4-.4-.92-.59-1.43-.59-.52 0-1.04.2-1.43.59L10.3 9.45l-7.72 7.72c-.78.78-.78 2.05 0 2.83L4 21.41c.39.39.9.59 1.41.59.51 0 1.02-.2 1.41-.59l7.78-7.78 2.81-2.81c.8-.78.8-2.07 0-2.86zM5.41 20L4 18.59l7.72-7.72 1.47 1.35L5.41 20z\"/>\n",
              "  </svg>\n",
              "      </button>\n",
              "      \n",
              "  <style>\n",
              "    .colab-df-container {\n",
              "      display:flex;\n",
              "      flex-wrap:wrap;\n",
              "      gap: 12px;\n",
              "    }\n",
              "\n",
              "    .colab-df-convert {\n",
              "      background-color: #E8F0FE;\n",
              "      border: none;\n",
              "      border-radius: 50%;\n",
              "      cursor: pointer;\n",
              "      display: none;\n",
              "      fill: #1967D2;\n",
              "      height: 32px;\n",
              "      padding: 0 0 0 0;\n",
              "      width: 32px;\n",
              "    }\n",
              "\n",
              "    .colab-df-convert:hover {\n",
              "      background-color: #E2EBFA;\n",
              "      box-shadow: 0px 1px 2px rgba(60, 64, 67, 0.3), 0px 1px 3px 1px rgba(60, 64, 67, 0.15);\n",
              "      fill: #174EA6;\n",
              "    }\n",
              "\n",
              "    [theme=dark] .colab-df-convert {\n",
              "      background-color: #3B4455;\n",
              "      fill: #D2E3FC;\n",
              "    }\n",
              "\n",
              "    [theme=dark] .colab-df-convert:hover {\n",
              "      background-color: #434B5C;\n",
              "      box-shadow: 0px 1px 3px 1px rgba(0, 0, 0, 0.15);\n",
              "      filter: drop-shadow(0px 1px 2px rgba(0, 0, 0, 0.3));\n",
              "      fill: #FFFFFF;\n",
              "    }\n",
              "  </style>\n",
              "\n",
              "      <script>\n",
              "        const buttonEl =\n",
              "          document.querySelector('#df-317a50dc-935c-403c-b9ad-a5aa44f11be2 button.colab-df-convert');\n",
              "        buttonEl.style.display =\n",
              "          google.colab.kernel.accessAllowed ? 'block' : 'none';\n",
              "\n",
              "        async function convertToInteractive(key) {\n",
              "          const element = document.querySelector('#df-317a50dc-935c-403c-b9ad-a5aa44f11be2');\n",
              "          const dataTable =\n",
              "            await google.colab.kernel.invokeFunction('convertToInteractive',\n",
              "                                                     [key], {});\n",
              "          if (!dataTable) return;\n",
              "\n",
              "          const docLinkHtml = 'Like what you see? Visit the ' +\n",
              "            '<a target=\"_blank\" href=https://colab.research.google.com/notebooks/data_table.ipynb>data table notebook</a>'\n",
              "            + ' to learn more about interactive tables.';\n",
              "          element.innerHTML = '';\n",
              "          dataTable['output_type'] = 'display_data';\n",
              "          await google.colab.output.renderOutput(dataTable, element);\n",
              "          const docLink = document.createElement('div');\n",
              "          docLink.innerHTML = docLinkHtml;\n",
              "          element.appendChild(docLink);\n",
              "        }\n",
              "      </script>\n",
              "    </div>\n",
              "  </div>\n",
              "  "
            ]
          },
          "metadata": {},
          "execution_count": 91
        }
      ]
    },
    {
      "cell_type": "code",
      "source": [
        "variables_df.shape"
      ],
      "metadata": {
        "colab": {
          "base_uri": "https://localhost:8080/"
        },
        "id": "YPNh08iLqooK",
        "outputId": "37913c39-4b7b-43fb-8d9b-fa44f47af292"
      },
      "execution_count": null,
      "outputs": [
        {
          "output_type": "execute_result",
          "data": {
            "text/plain": [
              "(89, 4)"
            ]
          },
          "metadata": {},
          "execution_count": 114
        }
      ]
    },
    {
      "cell_type": "code",
      "source": [
        "variables_df.columns"
      ],
      "metadata": {
        "colab": {
          "base_uri": "https://localhost:8080/"
        },
        "id": "0ZbNT_s6pOFW",
        "outputId": "2175df66-1fc0-4eb7-ccaa-198100d7ef64"
      },
      "execution_count": null,
      "outputs": [
        {
          "output_type": "execute_result",
          "data": {
            "text/plain": [
              "Index(['Column name', 'SHAP', 'XG booster Feature Importance',\n",
              "       'Feature Description'],\n",
              "      dtype='object')"
            ]
          },
          "metadata": {},
          "execution_count": 94
        }
      ]
    },
    {
      "cell_type": "code",
      "source": [
        "#change the column names\n",
        "variables_df.columns=['column_name', 'SHAP', 'XG_booster_Feature_Importance',\n",
        "       'Feature_Description']"
      ],
      "metadata": {
        "id": "Q4K6GclnpXGo"
      },
      "execution_count": null,
      "outputs": []
    },
    {
      "cell_type": "code",
      "source": [
        "var_list=list(variables_df['column_name'])"
      ],
      "metadata": {
        "id": "gnjOhr54pemk"
      },
      "execution_count": null,
      "outputs": []
    },
    {
      "cell_type": "markdown",
      "source": [
        "## Data Preparation for Model"
      ],
      "metadata": {
        "id": "lwAKATcKpvM9"
      }
    },
    {
      "cell_type": "code",
      "source": [
        "#append hi_flag column to the dataset"
      ],
      "metadata": {
        "id": "tXq9Q2__p63J"
      },
      "execution_count": null,
      "outputs": []
    },
    {
      "cell_type": "code",
      "source": [
        "var_list.append('hi_flag')"
      ],
      "metadata": {
        "id": "d-JC0Frzp90L"
      },
      "execution_count": null,
      "outputs": []
    },
    {
      "cell_type": "code",
      "source": [
        "print(var_list)"
      ],
      "metadata": {
        "colab": {
          "base_uri": "https://localhost:8080/"
        },
        "id": "t5GQK5nGqSKO",
        "outputId": "0bf0b3ed-b7f0-43e2-dc8a-965232200f53"
      },
      "execution_count": null,
      "outputs": [
        {
          "output_type": "stream",
          "name": "stdout",
          "text": [
            "['cons_homstat_Y', 'cms_disabled_ind', 'cms_ra_factor_type_cd_CN', 'total_outpatient_visit_ct_pmpm', 'cms_low_income_ind', 'total_physician_office_allowed_pmpm_cost', 'total_physician_office_visit_ct_pmpm', 'med_physician_office_ds_clm', 'cmsd1_men_pmpm_ct', 'cmsd2_skn_radiation_pmpm_ct', 'cons_mobplus_U', 'cms_frailty_ind', 'est_age', 'cms_orig_reas_entitle_cd_1.0', 'rev_pm_ivtrp_pmpm_cd_ct', 'med_outpatient_ds_clm', 'cms_ra_factor_type_cd_E', 'rev_pm_raddia_pmpm_cd_ct', 'total_outpatient_ds_clm', 'rev_pm_asc_pmpm_cd_ct', 'rx_nonmail_pmpm_ct', 'atlas_totalocchu', 'cms_race_cd_1', 'rx_days_since_last_script', 'rx_hum_75_pmpm_ct', 'cnt_cp_emails_10', 'rx_tier_2_pmpm_ct', 'rx_maint_pmpm_cost', 'total_bh_allowed_pmpm_cost', 'total_med_allowed_pmpm_cost', 'bh_ip_snf_allowed_pmpm_cost', 'total_ip_ltach_admit_days_pmpm', 'rx_hum_50_pmpm_cost', 'cnt_cp_vat_5', 'cmsd1_skn_pmpm_ct', 'rx_hum_31_pmpm_ct', 'cmsd2_skn_papulosquamous_pmpm_ct', 'cnt_cp_vat_pmpm_ct', 'cmsd2_bld_hemorrhagic_pmpm_ct', 'cmsd2_vco_genetic_pmpm_ct', 'cci_ctd_pmpm_ct', 'rx_hum_69_pmpm_cost', 'rx_hum_77_pmpm_ct', 'cmsd2_end_dm_pmpm_ct', 'cmsd2_sns_fluid_pmpm_ct', 'bh_physician_office_allowed_pmpm_cost', 'cmsd2_inj_knee/leg_pmpm_ct', 'rev_pm_dialys_pmpm_cd_ct', 'cmsd2_inj_frostbite_pmpm_ct', 'cmsd2_pre_obstetric_pmpm_ct', 'cmsd1_end_pmpm_ct', 'cmsd2_end_malnut_pmpm_ct', 'cmsd2_end_metabolic_pmpm_ct', 'rx_hum_49_pmpm_cost', 'cmsd2_pre_pre_supervision_pmpm_ct', 'rx_hum_38_pmpm_ct', 'cmsd2_unc_new_disease_pmpm_ct', 'rwjf_hiv_rate', 'rx_hum_52_pmpm_ct', 'total_ambulance_visit_ct_pmpm', 'cmsd2_inj_drugs_pmpm_ct', 'rx_otc_pmpm_cost', 'cnt_cp_webstatement_6', 'cmsd2_dig_oral_pmpm_ct', 'atlas_age65andolderpct2010', 'rx_specialty_ntwk_pmpm_cost', 'cmsd2_mus_lesions_other_pmpm_ct', 'prov_line_pmpm_cnt', 'cmsd2_inf_bact_other_pmpm_ct', 'cnt_cp_vat_9', 'rx_hum_80_pmpm_ct', 'cmsd2_can_in_situ_neo_pmpm_ct', 'cmsd2_ear_ear_other_pmpm_ct', 'cnt_cp_vat_7', 'cmsd2_ext_nature_pmpm_ct', 'rwjf_air_pollute_density', 'rx_hum_71_pmpm_ct', 'total_physician_office_ds_clm', 'cnt_cp_emails_6', 'cnt_cp_emails_3', 'cmsd2_res_res_other_pmpm_ct', 'total_outpatient_allowed_pmpm_cost', 'atlas_orchard_farms12', 'cmsd2_mus_bone_pmpm_ct', 'rx_hum_19_pmpm_cost', 'rx_hum_29_pmpm_cost', 'rx_nonbh_pmpm_ct', 'cmsd2_end_obese_pmpm_ct', 'cmsd1_ner_pmpm_ct', 'hi_flag']\n"
          ]
        }
      ]
    },
    {
      "cell_type": "code",
      "source": [
        "final_df=df2[var_list]"
      ],
      "metadata": {
        "id": "H_-PvhxFpyUr"
      },
      "execution_count": null,
      "outputs": []
    },
    {
      "cell_type": "code",
      "source": [
        "final_df.shape"
      ],
      "metadata": {
        "colab": {
          "base_uri": "https://localhost:8080/"
        },
        "id": "x-UgAjbAqihm",
        "outputId": "cf78ab36-6f03-4d42-ab6f-3401ee65b1fd"
      },
      "execution_count": null,
      "outputs": [
        {
          "output_type": "execute_result",
          "data": {
            "text/plain": [
              "(48300, 90)"
            ]
          },
          "metadata": {},
          "execution_count": 113
        }
      ]
    },
    {
      "cell_type": "markdown",
      "source": [
        "### Over Sampling the dataset"
      ],
      "metadata": {
        "id": "xnWJHOMmqrxV"
      }
    },
    {
      "cell_type": "code",
      "source": [
        "final_df2=final_df.copy()"
      ],
      "metadata": {
        "id": "5a0JIR0hrdwZ"
      },
      "execution_count": null,
      "outputs": []
    },
    {
      "cell_type": "code",
      "source": [
        "final_df['hi_flag'].value_counts()/len(final_df)"
      ],
      "metadata": {
        "colab": {
          "base_uri": "https://localhost:8080/"
        },
        "outputId": "5050e4da-f5f6-49b5-8f24-f82a8b1f6f0a",
        "id": "8wLfuYG9rdwa"
      },
      "execution_count": null,
      "outputs": [
        {
          "output_type": "execute_result",
          "data": {
            "text/plain": [
              "0    0.956149\n",
              "1    0.043851\n",
              "Name: hi_flag, dtype: float64"
            ]
          },
          "metadata": {},
          "execution_count": 116
        }
      ]
    },
    {
      "cell_type": "code",
      "source": [
        "y=final_df['hi_flag']\n",
        "X=final_df.drop(columns=['hi_flag'])\n"
      ],
      "metadata": {
        "id": "BLBaHYowrdwa"
      },
      "execution_count": null,
      "outputs": []
    },
    {
      "cell_type": "markdown",
      "source": [
        "**Data Splitting**\n",
        "\n",
        "Split the dataset into Train and Test"
      ],
      "metadata": {
        "id": "pLhnqVvEswzr"
      }
    },
    {
      "cell_type": "code",
      "source": [
        "# Model and performance\n",
        "from sklearn.model_selection import train_test_split\n",
        "from sklearn.ensemble import RandomForestClassifier\n",
        "from sklearn.metrics import classification_report"
      ],
      "metadata": {
        "id": "MqJ5uHAOs9p_"
      },
      "execution_count": null,
      "outputs": []
    },
    {
      "cell_type": "code",
      "source": [
        "# Train test split\n",
        "X_train, X_test, y_train, y_test = train_test_split(X, y, test_size=0.2, random_state=42)\n",
        "# Check the number of records\n",
        "print('The number of records in the training dataset is', X_train.shape[0])\n",
        "print('The number of records in the test dataset is', X_test.shape[0])\n",
        "print(f\"The training dataset has {sorted(Counter(y_train).items())[0][1]} records for the majority class and {sorted(Counter(y_train).items())[1][1]} records for the minority class.\")\n",
        "print(f\"The test dataset has {sorted(Counter(y_test).items())[0][1]} records for the majority class and {sorted(Counter(y_test).items())[1][1]} records for the minority class.\")"
      ],
      "metadata": {
        "colab": {
          "base_uri": "https://localhost:8080/"
        },
        "id": "Dj8TL4MQs316",
        "outputId": "535108ab-3a6a-4bdb-df80-4877de29320e"
      },
      "execution_count": null,
      "outputs": [
        {
          "output_type": "stream",
          "name": "stdout",
          "text": [
            "The number of records in the training dataset is 38640\n",
            "The number of records in the test dataset is 9660\n",
            "The training dataset has 36929 records for the majority class and 1711 records for the minority class.\n",
            "The test dataset has 9253 records for the majority class and 407 records for the minority class.\n"
          ]
        }
      ]
    },
    {
      "cell_type": "markdown",
      "source": [
        "**Over sampling** "
      ],
      "metadata": {
        "id": "5RLzwBCArdwb"
      }
    },
    {
      "cell_type": "code",
      "source": [
        "# Oversampling and under sampling\n",
        "from imblearn.over_sampling import RandomOverSampler, SMOTE\n",
        "from imblearn.under_sampling import RandomUnderSampler, NearMiss\n",
        "from collections import Counter"
      ],
      "metadata": {
        "id": "V06OWmzXrdwb"
      },
      "execution_count": null,
      "outputs": []
    },
    {
      "cell_type": "code",
      "source": [
        "# Randomly over sample the minority class\n",
        "ros = RandomOverSampler(random_state=42)\n",
        "X_train_ros, y_train_ros= ros.fit_resample(X_train, y_train)\n",
        "# Check the number of records after over sampling\n",
        "print(sorted(Counter(y).items()))\n",
        "print(sorted(Counter(y_train_ros).items()))"
      ],
      "metadata": {
        "colab": {
          "base_uri": "https://localhost:8080/"
        },
        "outputId": "7b2fe4cb-40ed-4a09-f2c0-56a2c4cb5ca5",
        "id": "m36UENqerdwb"
      },
      "execution_count": null,
      "outputs": [
        {
          "output_type": "stream",
          "name": "stdout",
          "text": [
            "[(0, 46182), (1, 2118)]\n",
            "[(0, 36929), (1, 36929)]\n"
          ]
        }
      ]
    },
    {
      "cell_type": "markdown",
      "source": [
        "## Data Modeling"
      ],
      "metadata": {
        "id": "rhrryT99tQRY"
      }
    },
    {
      "cell_type": "markdown",
      "source": [
        "### Standardizing data"
      ],
      "metadata": {
        "id": "y_KmeN2Tubhj"
      }
    },
    {
      "cell_type": "code",
      "source": [
        "from sklearn.preprocessing import StandardScaler\n",
        "from sklearn.metrics import recall_score\n",
        "from sklearn.metrics import precision_score\n",
        "from sklearn.metrics import classification_report"
      ],
      "metadata": {
        "id": "iaUEvMxTu2dX"
      },
      "execution_count": null,
      "outputs": []
    },
    {
      "cell_type": "code",
      "source": [
        "sc = StandardScaler()\n",
        "sc.fit(X_train_ros)\n",
        "X_train_std = sc.transform(X_train_ros)\n",
        "X_test_std = sc.transform(X_test)"
      ],
      "metadata": {
        "id": "5UiJAkHhubhj"
      },
      "execution_count": null,
      "outputs": []
    },
    {
      "cell_type": "markdown",
      "source": [
        "### Evaluate Model Function"
      ],
      "metadata": {
        "id": "ckfU4lOqubhk"
      }
    },
    {
      "cell_type": "code",
      "source": [
        "def evaluate_model(model, x_test, y_test):\n",
        "    from sklearn import metrics\n",
        "\n",
        "    # Predict Test Data \n",
        "    y_pred = model.predict(x_test)\n",
        "\n",
        "    # Calculate accuracy, precision, recall, f1-score, and kappa score\n",
        "    acc = metrics.accuracy_score(y_test, y_pred)\n",
        "    prec = metrics.precision_score(y_test, y_pred)\n",
        "    rec = metrics.recall_score(y_test, y_pred)\n",
        "    f1 = metrics.f1_score(y_test, y_pred)\n",
        "    kappa = metrics.cohen_kappa_score(y_test, y_pred)\n",
        "\n",
        "    # Calculate area under curve (AUC)\n",
        "    y_pred_proba = model.predict_proba(x_test)[::,1]\n",
        "    fpr, tpr, _ = metrics.roc_curve(y_test, y_pred_proba)\n",
        "    auc = metrics.roc_auc_score(y_test, y_pred_proba)\n",
        "\n",
        "    # Display confussion matrix\n",
        "    cm = metrics.confusion_matrix(y_test, y_pred)\n",
        "\n",
        "    return {'acc': acc, 'prec': prec, 'rec': rec, 'f1': f1, 'kappa': kappa, \n",
        "            'fpr': fpr, 'tpr': tpr, 'auc': auc, 'cm': cm}"
      ],
      "metadata": {
        "id": "muzVXv2Kubhk"
      },
      "execution_count": null,
      "outputs": []
    },
    {
      "cell_type": "markdown",
      "source": [
        "### Baseline Model - Random Forest\n",
        "\n",
        "No oversampling"
      ],
      "metadata": {
        "id": "nvdXjxZ5tdD4"
      }
    },
    {
      "cell_type": "code",
      "source": [
        "# Train the random forest model , below results are without oversampling\n",
        "brf = RandomForestClassifier()\n",
        "baseline_model = brf.fit(X_train, y_train)\n",
        "baseline_prediction = baseline_model.predict(X_test)\n",
        "# Check the model performance\n",
        "#print(classification_report(y_test, baseline_prediction))"
      ],
      "metadata": {
        "id": "1_lVD5FdtS10"
      },
      "execution_count": null,
      "outputs": []
    },
    {
      "cell_type": "code",
      "source": [
        "#Evaluate the Model\n",
        "brf_eval=evaluate_model(brf, X_test_std, y_test)\n",
        "\n",
        "# Print result\n",
        "print('Accuracy:', brf_eval['acc'])\n",
        "print('Precision for Housing Insecurity:', brf_eval['prec'])\n",
        "print('Recall for Housing Insecurity:', brf_eval['rec'])   #For 1\n",
        "print('F1 Score:', brf_eval['f1'])\n",
        "print('Cohens Kappa Score:', brf_eval['kappa'])\n",
        "print('Area Under Curve:', brf_eval['auc'])\n",
        "print('Confusion Matrix:\\n', brf_eval['cm'])\n",
        "\n",
        "# confusion matrix\n",
        "\n",
        "# TP is bottom right\n",
        "# TN is top left\n",
        "# FP is top right\n",
        "# FN is bottom left"
      ],
      "metadata": {
        "colab": {
          "base_uri": "https://localhost:8080/"
        },
        "id": "LbkKAwYTwL60",
        "outputId": "89529840-4bee-4b46-aa1f-8ac320d9b231"
      },
      "execution_count": null,
      "outputs": [
        {
          "output_type": "stream",
          "name": "stderr",
          "text": [
            "X does not have valid feature names, but RandomForestClassifier was fitted with feature names\n",
            "X does not have valid feature names, but RandomForestClassifier was fitted with feature names\n"
          ]
        },
        {
          "output_type": "stream",
          "name": "stdout",
          "text": [
            "Accuracy: 0.9542443064182194\n",
            "Precision for Housing Insecurity: 0.07317073170731707\n",
            "Recall for Housing Insecurity: 0.007371007371007371\n",
            "F1 Score: 0.013392857142857142\n",
            "Cohens Kappa Score: 0.005725255722344946\n",
            "Area Under Curve: 0.6362121482082577\n",
            "Confusion Matrix:\n",
            " [[9215   38]\n",
            " [ 404    3]]\n"
          ]
        }
      ]
    },
    {
      "cell_type": "markdown",
      "source": [
        "### Random Forest\n",
        "\n",
        "Using oversampling"
      ],
      "metadata": {
        "id": "Vn1FYzh3tpVa"
      }
    },
    {
      "cell_type": "code",
      "source": [
        "# Train the random forest model , below results are without oversampling\n",
        "rf = RandomForestClassifier()\n",
        "rf_ros = rf.fit(X_train_std, y_train_ros)\n",
        "rf_ros_prediction = rf_ros.predict(X_test)\n",
        "# Check the model performance\n",
        "#print(classification_report(y_test, rf_ros_prediction))"
      ],
      "metadata": {
        "colab": {
          "base_uri": "https://localhost:8080/"
        },
        "outputId": "64c58a4a-7be2-4d34-f804-a42a6ca6aab0",
        "id": "QO9ZdSmztpVb"
      },
      "execution_count": null,
      "outputs": [
        {
          "output_type": "stream",
          "name": "stderr",
          "text": [
            "X has feature names, but RandomForestClassifier was fitted without feature names\n"
          ]
        }
      ]
    },
    {
      "cell_type": "code",
      "source": [
        "#Evaluate the Model\n",
        "rf_eval=evaluate_model(rf, X_test_std, y_test)\n",
        "\n",
        "# Print result\n",
        "print('Accuracy:', rf_eval['acc'])\n",
        "print('Precision for Housing Insecurity:', rf_eval['prec'])\n",
        "print('Recall for Housing Insecurity:', rf_eval['rec'])   #For 1\n",
        "print('F1 Score:', rf_eval['f1'])\n",
        "print('Cohens Kappa Score:', rf_eval['kappa'])\n",
        "print('Area Under Curve:', rf_eval['auc'])\n",
        "print('Confusion Matrix:\\n', rf_eval['cm'])\n",
        "\n",
        "# confusion matrix\n",
        "\n",
        "# TP is bottom right\n",
        "# TN is top left\n",
        "# FP is top right\n",
        "# FN is bottom left"
      ],
      "metadata": {
        "colab": {
          "base_uri": "https://localhost:8080/"
        },
        "id": "IwDKvt09vWdI",
        "outputId": "b6f93abe-345a-4d6e-d5c4-b7db1fa2d589"
      },
      "execution_count": null,
      "outputs": [
        {
          "output_type": "stream",
          "name": "stdout",
          "text": [
            "Accuracy: 0.9576604554865424\n",
            "Precision for Housing Insecurity: 0.0\n",
            "Recall for Housing Insecurity: 0.0\n",
            "F1 Score: 0.0\n",
            "Cohens Kappa Score: -0.0004122236987098571\n",
            "Area Under Curve: 0.6901342309858467\n",
            "Confusion Matrix:\n",
            " [[9251    2]\n",
            " [ 407    0]]\n"
          ]
        }
      ]
    },
    {
      "cell_type": "markdown",
      "source": [
        "### Logistic Regression"
      ],
      "metadata": {
        "id": "QoPIenXcY1B-"
      }
    },
    {
      "cell_type": "code",
      "source": [
        "from sklearn.linear_model import LogisticRegression\n",
        "#Building the Model\n",
        "\n",
        "lr= LogisticRegression()\n",
        "lr.fit(X_train_std, y_train_ros)"
      ],
      "metadata": {
        "colab": {
          "base_uri": "https://localhost:8080/"
        },
        "outputId": "ce4be2fb-15d6-4fb4-d3ed-ca49e9a4ce9c",
        "id": "KLLlLdllY1B-"
      },
      "execution_count": null,
      "outputs": [
        {
          "output_type": "execute_result",
          "data": {
            "text/plain": [
              "LogisticRegression()"
            ]
          },
          "metadata": {},
          "execution_count": 154
        }
      ]
    },
    {
      "cell_type": "code",
      "source": [
        "#Evaluate the Model\n",
        "lr_eval=evaluate_model(lr, X_test_std, y_test)\n",
        "\n",
        "# Print result\n",
        "print('Accuracy:', lr_eval['acc'])\n",
        "print('Precision for Housing Insecurity:', lr_eval['prec'])\n",
        "print('Recall for Housing Insecurity:', lr_eval['rec'])   #For 1\n",
        "print('F1 Score:', lr_eval['f1'])\n",
        "print('Cohens Kappa Score:', lr_eval['kappa'])\n",
        "print('Area Under Curve:', lr_eval['auc'])\n",
        "print('Confusion Matrix:\\n', lr_eval['cm'])\n",
        "\n",
        "# confusion matrix\n",
        "\n",
        "# TP is bottom right\n",
        "# TN is top left\n",
        "# FP is top right\n",
        "# FN is bottom left"
      ],
      "metadata": {
        "colab": {
          "base_uri": "https://localhost:8080/"
        },
        "outputId": "0c53de51-81b4-47f9-ef5a-59ecf65df7cc",
        "id": "6vfoFAVpY1B-"
      },
      "execution_count": null,
      "outputs": [
        {
          "output_type": "stream",
          "name": "stdout",
          "text": [
            "Accuracy: 0.6822981366459627\n",
            "Precision for Housing Insecurity: 0.08380237648530331\n",
            "Recall for Housing Insecurity: 0.6584766584766585\n",
            "F1 Score: 0.14868238557558947\n",
            "Cohens Kappa Score: 0.07990372031668169\n",
            "Area Under Curve: 0.7336485065870131\n",
            "Confusion Matrix:\n",
            " [[6323 2930]\n",
            " [ 139  268]]\n"
          ]
        }
      ]
    },
    {
      "cell_type": "code",
      "source": [
        "#From chaitanya's code\n",
        "print('Recall score is', recall_score(y_test, lr.predict(X_test_std), average='micro'))\n",
        "print('Precision score is',precision_score(y_test, lr.predict(X_test_std), average='macro'))"
      ],
      "metadata": {
        "colab": {
          "base_uri": "https://localhost:8080/"
        },
        "outputId": "12178a66-46f5-4f03-cfa7-55781742a883",
        "id": "T9QWA4ZSY1B_"
      },
      "execution_count": null,
      "outputs": [
        {
          "output_type": "stream",
          "name": "stdout",
          "text": [
            "Recall score is 0.6822981366459627\n",
            "Precision score is 0.5311460040891388\n"
          ]
        }
      ]
    },
    {
      "cell_type": "code",
      "source": [
        "#Confirmation for above function\n",
        "print(classification_report(y_test, lr.predict(X_test_std)))"
      ],
      "metadata": {
        "colab": {
          "base_uri": "https://localhost:8080/"
        },
        "outputId": "5d1456b3-4cdf-4c91-b594-ad310f0c7a68",
        "id": "F9Zud-VZY1B_"
      },
      "execution_count": null,
      "outputs": [
        {
          "output_type": "stream",
          "name": "stdout",
          "text": [
            "              precision    recall  f1-score   support\n",
            "\n",
            "           0       0.98      0.68      0.80      9253\n",
            "           1       0.08      0.66      0.15       407\n",
            "\n",
            "    accuracy                           0.68      9660\n",
            "   macro avg       0.53      0.67      0.48      9660\n",
            "weighted avg       0.94      0.68      0.78      9660\n",
            "\n"
          ]
        }
      ]
    },
    {
      "cell_type": "markdown",
      "source": [
        "### Decision Tree"
      ],
      "metadata": {
        "id": "ZhCmLHYcY1B_"
      }
    },
    {
      "cell_type": "code",
      "source": [
        "from sklearn import tree\n",
        "from sklearn.tree import DecisionTreeClassifier\n",
        "\n",
        "dt = DecisionTreeClassifier(random_state=0, max_depth=2)\n",
        "dt.fit(X_train_std, y_train_ros)"
      ],
      "metadata": {
        "colab": {
          "base_uri": "https://localhost:8080/"
        },
        "outputId": "1f9b7ff6-eeca-45f7-d3c4-d76e1ff96c15",
        "id": "fD_B1J0aY1CA"
      },
      "execution_count": null,
      "outputs": [
        {
          "output_type": "execute_result",
          "data": {
            "text/plain": [
              "DecisionTreeClassifier(max_depth=2, random_state=0)"
            ]
          },
          "metadata": {},
          "execution_count": 138
        }
      ]
    },
    {
      "cell_type": "code",
      "source": [
        "#Evaluate the Model\n",
        "dt_eval=evaluate_model(dt, X_test_std, y_test)\n",
        "\n",
        "# Print result\n",
        "print('Accuracy:', round(dt_eval['acc'],3))\n",
        "print('Precision for Housing Insecurity:', round(dt_eval['prec'],2))\n",
        "print('Recall for Housing Insecurity:', round(dt_eval['rec'],2))   #For 1\n",
        "print('F1 Score:', round(dt_eval['f1'],2))\n",
        "print('Cohens Kappa Score:', round(dt_eval['kappa'],2))\n",
        "print('Area Under Curve:', round(dt_eval['auc'],2))\n",
        "print('Confusion Matrix:\\n', dt_eval['cm'])\n",
        "\n",
        "# confusion matrix\n",
        "\n",
        "# TP is bottom right\n",
        "# TN is top left\n",
        "# FP is top right\n",
        "# FN is bottom left"
      ],
      "metadata": {
        "colab": {
          "base_uri": "https://localhost:8080/"
        },
        "outputId": "baf71a3e-230d-4824-b760-0e8a91c45c0d",
        "id": "isS4vskUY1CA"
      },
      "execution_count": null,
      "outputs": [
        {
          "output_type": "stream",
          "name": "stdout",
          "text": [
            "Accuracy: 0.574\n",
            "Precision for Housing Insecurity: 0.07\n",
            "Recall for Housing Insecurity: 0.71\n",
            "F1 Score: 0.12\n",
            "Cohens Kappa Score: 0.05\n",
            "Area Under Curve: 0.67\n",
            "Confusion Matrix:\n",
            " [[5254 3999]\n",
            " [ 120  287]]\n"
          ]
        }
      ]
    },
    {
      "cell_type": "code",
      "source": [
        "#Confirmation for above function\n",
        "print(classification_report(y_test, dt.predict(X_test_std)))"
      ],
      "metadata": {
        "colab": {
          "base_uri": "https://localhost:8080/"
        },
        "outputId": "11f2dd1a-1f85-4708-978c-673f19a2cc41",
        "id": "BTD45hP7Y1CA"
      },
      "execution_count": null,
      "outputs": [
        {
          "output_type": "stream",
          "name": "stdout",
          "text": [
            "              precision    recall  f1-score   support\n",
            "\n",
            "           0       0.98      0.57      0.72      9253\n",
            "           1       0.07      0.71      0.12       407\n",
            "\n",
            "    accuracy                           0.57      9660\n",
            "   macro avg       0.52      0.64      0.42      9660\n",
            "weighted avg       0.94      0.57      0.69      9660\n",
            "\n"
          ]
        }
      ]
    },
    {
      "cell_type": "markdown",
      "source": [
        "### KNN"
      ],
      "metadata": {
        "id": "MscmH__1Y1CA"
      }
    },
    {
      "cell_type": "code",
      "source": [
        "from sklearn.neighbors import KNeighborsClassifier\n",
        "\n",
        "knn = KNeighborsClassifier(n_neighbors=7)\n",
        "knn.fit(X_train_std, y_train_ros)"
      ],
      "metadata": {
        "colab": {
          "base_uri": "https://localhost:8080/"
        },
        "outputId": "cb5423f3-6425-4d3e-dc75-0e6a245c651e",
        "id": "ebUhefV9Y1CA"
      },
      "execution_count": null,
      "outputs": [
        {
          "output_type": "execute_result",
          "data": {
            "text/plain": [
              "KNeighborsClassifier(n_neighbors=7)"
            ]
          },
          "metadata": {},
          "execution_count": 141
        }
      ]
    },
    {
      "cell_type": "code",
      "source": [
        "#Evaluate the Model\n",
        "knn_eval=evaluate_model(knn, X_test_std, y_test)\n",
        "\n",
        "# Print result\n",
        "print('Accuracy:', round(knn_eval['acc'],3))\n",
        "print('Precision for Housing Insecurity:', round(knn_eval['prec'],2))\n",
        "print('Recall for Housing Insecurity:', round(knn_eval['rec'],2))   #For 1\n",
        "print('F1 Score:', round(knn_eval['f1'],2))\n",
        "print('Cohens Kappa Score:', round(knn_eval['kappa'],2))\n",
        "print('Area Under Curve:', round(knn_eval['auc'],2))\n",
        "print('Confusion Matrix:\\n', knn_eval['cm'])\n",
        "\n",
        "# confusion matrix\n",
        "\n",
        "# TP is bottom right\n",
        "# TN is top left\n",
        "# FP is top right\n",
        "# FN is bottom left"
      ],
      "metadata": {
        "colab": {
          "base_uri": "https://localhost:8080/"
        },
        "outputId": "6331c0b2-e98d-46ed-8ab9-39ce116615d0",
        "id": "z0TNu3Q0Y1CA"
      },
      "execution_count": null,
      "outputs": [
        {
          "output_type": "stream",
          "name": "stdout",
          "text": [
            "Accuracy: 0.836\n",
            "Precision for Housing Insecurity: 0.07\n",
            "Recall for Housing Insecurity: 0.24\n",
            "F1 Score: 0.11\n",
            "Cohens Kappa Score: 0.05\n",
            "Area Under Curve: 0.57\n",
            "Confusion Matrix:\n",
            " [[7978 1275]\n",
            " [ 310   97]]\n"
          ]
        }
      ]
    },
    {
      "cell_type": "markdown",
      "source": [
        "## Model Evaluation and Comparison"
      ],
      "metadata": {
        "id": "BYjrZbpDY1CB"
      }
    },
    {
      "cell_type": "code",
      "source": [
        "# Intitialize figure with two plots\n",
        "fig, (ax1, ax2) = plt.subplots(1, 2)\n",
        "fig.suptitle('Model Comparison', fontsize=16, fontweight='bold')\n",
        "fig.set_figheight(7)\n",
        "fig.set_figwidth(14)\n",
        "fig.set_facecolor('white')\n",
        "\n",
        "# First plot\n",
        "## set bar size\n",
        "barWidth = 0.2\n",
        "brf_score = [brf_eval['acc'], brf_eval['prec'], brf_eval['rec'], brf_eval['f1'], brf_eval['kappa']]\n",
        "rf_score = [rf_eval['acc'], rf_eval['prec'], rf_eval['rec'], rf_eval['f1'], rf_eval['kappa']]\n",
        "dt_score = [dt_eval['acc'], dt_eval['prec'], dt_eval['rec'], dt_eval['f1'], dt_eval['kappa']]\n",
        "lr_score = [lr_eval['acc'], lr_eval['prec'], lr_eval['rec'], lr_eval['f1'], lr_eval['kappa']]\n",
        "knn_score = [knn_eval['acc'], knn_eval['prec'], knn_eval['rec'], knn_eval['f1'], knn_eval['kappa']]\n",
        "\n",
        "## Set position of bar on X axis\n",
        "r1 = np.arange(len(dt_score))\n",
        "r2 = [x + barWidth for x in r1]\n",
        "r3 = [x + barWidth for x in r2]\n",
        "r4 = [x + barWidth for x in r3]\n",
        "r5 = [x + barWidth for x in r4]\n",
        "\n",
        "## Make the plot\n",
        "ax1.bar(r1, dt_score, width=barWidth, edgecolor='white', label='Baseline Random Forest')\n",
        "ax1.bar(r2, lr_score, width=barWidth, edgecolor='white', label='Random Forest')\n",
        "ax1.bar(r3, rf_score, width=barWidth, edgecolor='white', label='Decision Tree')\n",
        "ax1.bar(r4, rf_score, width=barWidth, edgecolor='white', label='Logistic Regression')\n",
        "ax1.bar(r5, knn_score, width=barWidth, edgecolor='white', label='K-Nearest Neighbors')\n",
        "\n",
        "## Configure x and y axis\n",
        "ax1.set_xlabel('Metrics', fontweight='bold')\n",
        "labels = ['Accuracy', 'Precision', 'Recall', 'F1', 'Kappa']\n",
        "ax1.set_xticks([r + (barWidth * 1.5) for r in range(len(dt_score))], )\n",
        "ax1.set_xticklabels(labels)\n",
        "ax1.set_ylabel('Score', fontweight='bold')\n",
        "ax1.set_ylim(0, 1)\n",
        "\n",
        "## Create legend & title\n",
        "ax1.set_title('Evaluation Metrics', fontsize=14, fontweight='bold')\n",
        "ax1.legend()\n",
        "\n",
        "# Second plot\n",
        "## Comparing ROC Curve\n",
        "ax2.plot(brf_eval['fpr'], brf_eval['tpr'], label='Baseline RF, auc = {:0.5f}'.format(brf_eval['auc']))\n",
        "ax2.plot(rf_eval['fpr'], rf_eval['tpr'], label='Random Forest, auc = {:0.5f}'.format(rf_eval['auc']))\n",
        "ax2.plot(dt_eval['fpr'], dt_eval['tpr'], label='Decision Tree, auc = {:0.5f}'.format(dt_eval['auc']))\n",
        "ax2.plot(lr_eval['fpr'], lr_eval['tpr'], label='Logistic Regression, auc = {:0.5f}'.format(lr_eval['auc']))\n",
        "ax2.plot(knn_eval['fpr'], knn_eval['tpr'], label='K-Nearest Nieghbor, auc = {:0.5f}'.format(knn_eval['auc']))\n",
        "\n",
        "## Configure x and y axis\n",
        "ax2.set_xlabel('False Positive Rate', fontweight='bold')\n",
        "ax2.set_ylabel('True Positive Rate', fontweight='bold')\n",
        "\n",
        "## Create legend & title\n",
        "ax2.set_title('ROC Curve', fontsize=14, fontweight='bold')\n",
        "ax2.legend(loc=4)\n",
        "\n",
        "plt.show()"
      ],
      "metadata": {
        "colab": {
          "base_uri": "https://localhost:8080/",
          "height": 493
        },
        "outputId": "f6b4f5f7-2d84-473f-8bed-abfa7e5f8c11",
        "id": "gIOo2jovY1CB"
      },
      "execution_count": null,
      "outputs": [
        {
          "output_type": "display_data",
          "data": {
            "text/plain": [
              "<Figure size 1008x504 with 2 Axes>"
            ],
            "image/png": "[encoded data removed]"
          },
          "metadata": {}
        }
      ]
    },
    {
      "cell_type": "code",
      "source": [
        "def plot_lift_curve(y_val, y_pred, step=0.01):\n",
        "    \n",
        "    #Define an auxiliar dataframe to plot the curve\n",
        "    aux_lift = pd.DataFrame()\n",
        "    #Create a real and predicted column for our new DataFrame and assign values\n",
        "    aux_lift['real'] = y_val\n",
        "    aux_lift['predicted'] = y_pred\n",
        "    #Order the values for the predicted probability column:\n",
        "    aux_lift.sort_values('predicted',ascending=False,inplace=True)\n",
        "    \n",
        "    #Create the values that will go into the X axis of our plot\n",
        "    x_val = np.arange(step,1+step,step)\n",
        "    #Calculate the ratio of ones in our data\n",
        "    ratio_ones = aux_lift['real'].sum() / len(aux_lift)\n",
        "    #Create an empty vector with the values that will go on the Y axis our our plot\n",
        "    y_v = []\n",
        "    \n",
        "    #Calculate for each x value its correspondent y value\n",
        "    for x in x_val:\n",
        "        num_data = int(np.ceil(x*len(aux_lift))) #The ceil function returns the closest integer bigger than our number \n",
        "        data_here = aux_lift.iloc[:num_data,:]   # ie. np.ceil(1.4) = 2\n",
        "        ratio_ones_here = data_here['real'].sum()/len(data_here)\n",
        "        y_v.append(ratio_ones_here / ratio_ones)\n",
        "           \n",
        "   #Plot the figure\n",
        "    fig, axis = plt.subplots()\n",
        "    fig.figsize = (40,40)\n",
        "    axis.plot(x_val, y_v, 'g-', linewidth = 3, markersize = 5)\n",
        "    axis.plot(x_val, np.ones(len(x_val)), 'k-')\n",
        "    axis.set_xlabel('Proportion of sample')\n",
        "    axis.set_ylabel('Lift')\n",
        "    plt.title('Lift Curve')\n",
        "    plt.show()"
      ],
      "metadata": {
        "id": "lTaUzEPHa6o-"
      },
      "execution_count": null,
      "outputs": []
    },
    {
      "cell_type": "code",
      "source": [
        "plot_lift_curve(y_test, knn.predict(X_test_std),)"
      ],
      "metadata": {
        "outputId": "1a67a689-fb30-4365-daf9-d772c4b4bc37",
        "colab": {
          "base_uri": "https://localhost:8080/",
          "height": 295
        },
        "id": "PA4ENfFWY1CB"
      },
      "execution_count": null,
      "outputs": [
        {
          "output_type": "display_data",
          "data": {
            "text/plain": [
              "<Figure size 432x288 with 1 Axes>"
            ],
            "image/png": "[encoded data removed]"
          },
          "metadata": {
            "needs_background": "light"
          }
        }
      ]
    },
    {
      "cell_type": "markdown",
      "source": [
        "## Scoring on Holdout Sample"
      ],
      "metadata": {
        "id": "0-GZxNcU1xUi"
      }
    },
    {
      "cell_type": "code",
      "source": [
        "score_df_raw = pd.read_csv('/content/drive/MyDrive/TAMU Competition/2022_Competition_Holdout.csv',low_memory=False)"
      ],
      "metadata": {
        "id": "6AaxU-331zkN"
      },
      "execution_count": null,
      "outputs": []
    },
    {
      "cell_type": "code",
      "source": [
        "catg_columns=['cons_mobplus', 'cms_ra_factor_type_cd', 'cons_homstat', 'cms_orig_reas_entitle_cd', 'sex_cd', 'lang_spoken_cd', 'rucc_category', 'cms_race_cd']\n",
        "score_df = pd.get_dummies(score_df_raw, columns=catg_columns, drop_first=True)\n"
      ],
      "metadata": {
        "id": "ePxdmp-C2jG-"
      },
      "execution_count": null,
      "outputs": []
    },
    {
      "cell_type": "code",
      "source": [
        "X.columns"
      ],
      "metadata": {
        "colab": {
          "base_uri": "https://localhost:8080/"
        },
        "collapsed": true,
        "id": "J0VJH9sn2ule",
        "outputId": "56b1e257-6d74-48cd-f05e-d7dfb3fc0e7c"
      },
      "execution_count": null,
      "outputs": [
        {
          "output_type": "execute_result",
          "data": {
            "text/plain": [
              "Index(['cons_homstat_Y', 'cms_disabled_ind', 'cms_ra_factor_type_cd_CN',\n",
              "       'total_outpatient_visit_ct_pmpm', 'cms_low_income_ind',\n",
              "       'total_physician_office_allowed_pmpm_cost',\n",
              "       'total_physician_office_visit_ct_pmpm', 'med_physician_office_ds_clm',\n",
              "       'cmsd1_men_pmpm_ct', 'cmsd2_skn_radiation_pmpm_ct', 'cons_mobplus_U',\n",
              "       'cms_frailty_ind', 'est_age', 'cms_orig_reas_entitle_cd_1.0',\n",
              "       'rev_pm_ivtrp_pmpm_cd_ct', 'med_outpatient_ds_clm',\n",
              "       'cms_ra_factor_type_cd_E', 'rev_pm_raddia_pmpm_cd_ct',\n",
              "       'total_outpatient_ds_clm', 'rev_pm_asc_pmpm_cd_ct',\n",
              "       'rx_nonmail_pmpm_ct', 'atlas_totalocchu', 'cms_race_cd_1',\n",
              "       'rx_days_since_last_script', 'rx_hum_75_pmpm_ct', 'cnt_cp_emails_10',\n",
              "       'rx_tier_2_pmpm_ct', 'rx_maint_pmpm_cost', 'total_bh_allowed_pmpm_cost',\n",
              "       'total_med_allowed_pmpm_cost', 'bh_ip_snf_allowed_pmpm_cost',\n",
              "       'total_ip_ltach_admit_days_pmpm', 'rx_hum_50_pmpm_cost', 'cnt_cp_vat_5',\n",
              "       'cmsd1_skn_pmpm_ct', 'rx_hum_31_pmpm_ct',\n",
              "       'cmsd2_skn_papulosquamous_pmpm_ct', 'cnt_cp_vat_pmpm_ct',\n",
              "       'cmsd2_bld_hemorrhagic_pmpm_ct', 'cmsd2_vco_genetic_pmpm_ct',\n",
              "       'cci_ctd_pmpm_ct', 'rx_hum_69_pmpm_cost', 'rx_hum_77_pmpm_ct',\n",
              "       'cmsd2_end_dm_pmpm_ct', 'cmsd2_sns_fluid_pmpm_ct',\n",
              "       'bh_physician_office_allowed_pmpm_cost', 'cmsd2_inj_knee/leg_pmpm_ct',\n",
              "       'rev_pm_dialys_pmpm_cd_ct', 'cmsd2_inj_frostbite_pmpm_ct',\n",
              "       'cmsd2_pre_obstetric_pmpm_ct', 'cmsd1_end_pmpm_ct',\n",
              "       'cmsd2_end_malnut_pmpm_ct', 'cmsd2_end_metabolic_pmpm_ct',\n",
              "       'rx_hum_49_pmpm_cost', 'cmsd2_pre_pre_supervision_pmpm_ct',\n",
              "       'rx_hum_38_pmpm_ct', 'cmsd2_unc_new_disease_pmpm_ct', 'rwjf_hiv_rate',\n",
              "       'rx_hum_52_pmpm_ct', 'total_ambulance_visit_ct_pmpm',\n",
              "       'cmsd2_inj_drugs_pmpm_ct', 'rx_otc_pmpm_cost', 'cnt_cp_webstatement_6',\n",
              "       'cmsd2_dig_oral_pmpm_ct', 'atlas_age65andolderpct2010',\n",
              "       'rx_specialty_ntwk_pmpm_cost', 'cmsd2_mus_lesions_other_pmpm_ct',\n",
              "       'prov_line_pmpm_cnt', 'cmsd2_inf_bact_other_pmpm_ct', 'cnt_cp_vat_9',\n",
              "       'rx_hum_80_pmpm_ct', 'cmsd2_can_in_situ_neo_pmpm_ct',\n",
              "       'cmsd2_ear_ear_other_pmpm_ct', 'cnt_cp_vat_7',\n",
              "       'cmsd2_ext_nature_pmpm_ct', 'rwjf_air_pollute_density',\n",
              "       'rx_hum_71_pmpm_ct', 'total_physician_office_ds_clm', 'cnt_cp_emails_6',\n",
              "       'cnt_cp_emails_3', 'cmsd2_res_res_other_pmpm_ct',\n",
              "       'total_outpatient_allowed_pmpm_cost', 'atlas_orchard_farms12',\n",
              "       'cmsd2_mus_bone_pmpm_ct', 'rx_hum_19_pmpm_cost', 'rx_hum_29_pmpm_cost',\n",
              "       'rx_nonbh_pmpm_ct', 'cmsd2_end_obese_pmpm_ct', 'cmsd1_ner_pmpm_ct'],\n",
              "      dtype='object')"
            ]
          },
          "metadata": {},
          "execution_count": 160
        }
      ]
    },
    {
      "cell_type": "code",
      "source": [
        "sc = StandardScaler()\n",
        "sc.fit(score_df[X.columns].fillna(0))\n",
        "score_df_std = sc.transform(score_df[X.columns].fillna(0))"
      ],
      "metadata": {
        "id": "NbuCdaFO22-Y"
      },
      "execution_count": null,
      "outputs": []
    },
    {
      "cell_type": "code",
      "source": [
        "#holdout_pred = lr.predict(score_df_std)\n",
        "holdout_pred_prob = lr.predict_proba(score_df_std)[::,1]"
      ],
      "metadata": {
        "id": "R0GJ_wc63ZPX"
      },
      "execution_count": null,
      "outputs": []
    },
    {
      "cell_type": "code",
      "source": [
        "#holdout_pred = lr.predict(score_df_std)\n",
        "print(holdout_pred_prob)"
      ],
      "metadata": {
        "colab": {
          "base_uri": "https://localhost:8080/"
        },
        "id": "6rhphTZ54NaG",
        "outputId": "d8266eca-2a7c-48bd-ccdb-ce4d52ef0610"
      },
      "execution_count": null,
      "outputs": [
        {
          "output_type": "stream",
          "name": "stdout",
          "text": [
            "[0.23807764 0.77152891 0.44385074 ... 0.29331815 0.50451107 0.76009928]\n"
          ]
        }
      ]
    },
    {
      "cell_type": "code",
      "source": [
        "df_submission_lb=score_df.copy()"
      ],
      "metadata": {
        "id": "yukcgyUj8HtO"
      },
      "execution_count": null,
      "outputs": []
    },
    {
      "cell_type": "code",
      "source": [
        "df_submission_lb['score']=holdout_pred_prob"
      ],
      "metadata": {
        "id": "jWNdyHYQ8fFL"
      },
      "execution_count": null,
      "outputs": []
    },
    {
      "cell_type": "code",
      "source": [
        "df_submission_lb[['id','score']].to_csv('2022CaseCompetition_akshayraj_pallerla_20221013.csv')"
      ],
      "metadata": {
        "id": "AS-XyDkt8sR6"
      },
      "execution_count": null,
      "outputs": []
    }
  ]
}